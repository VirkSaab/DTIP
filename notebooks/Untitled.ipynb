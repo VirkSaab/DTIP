{
 "cells": [
  {
   "cell_type": "code",
   "execution_count": 1,
   "id": "34ec2732",
   "metadata": {
    "ExecuteTime": {
     "end_time": "2021-11-03T17:57:03.185597Z",
     "start_time": "2021-11-03T17:57:03.062157Z"
    }
   },
   "outputs": [
    {
     "name": "stdout",
     "output_type": "stream",
     "text": [
      "/home/virk/devs/WorkProjects/DTIP/venv/bin/pip\r\n"
     ]
    }
   ],
   "source": [
    "!which pip"
   ]
  },
  {
   "cell_type": "code",
   "execution_count": 2,
   "id": "7b166b1d",
   "metadata": {
    "ExecuteTime": {
     "end_time": "2021-11-03T17:57:03.499096Z",
     "start_time": "2021-11-03T17:57:03.189363Z"
    }
   },
   "outputs": [
    {
     "data": {
      "text/plain": [
       "True"
      ]
     },
     "execution_count": 2,
     "metadata": {},
     "output_type": "execute_result"
    }
   ],
   "source": [
    "from fsl.data import dicom\n",
    "\n",
    "from dtip.utils import load_config, ROOT_DIR\n",
    "\n",
    "\n",
    "# Returns True if dcm2niix is present, and recent enough, False otherwise.\n",
    "dicom.enabled()"
   ]
  },
  {
   "cell_type": "code",
   "execution_count": 3,
   "id": "1373d624",
   "metadata": {
    "ExecuteTime": {
     "end_time": "2021-11-03T17:57:03.511113Z",
     "start_time": "2021-11-03T17:57:03.501499Z"
    }
   },
   "outputs": [],
   "source": [
    "CNF = load_config(ROOT_DIR/'config/default.yaml')"
   ]
  },
  {
   "cell_type": "code",
   "execution_count": 11,
   "id": "b541f4c1",
   "metadata": {
    "ExecuteTime": {
     "end_time": "2021-11-03T17:57:46.863466Z",
     "start_time": "2021-11-03T17:57:46.857355Z"
    }
   },
   "outputs": [],
   "source": [
    "import nibabel as nib\n",
    "from pathlib import Path"
   ]
  },
  {
   "cell_type": "code",
   "execution_count": 5,
   "id": "939562ce",
   "metadata": {
    "ExecuteTime": {
     "end_time": "2021-11-03T17:57:03.519974Z",
     "start_time": "2021-11-03T17:57:03.516153Z"
    }
   },
   "outputs": [],
   "source": [
    "input_path = Path('/media/virk/MyEHDD/ITS/1_nifti/1_1')\n",
    "output_path = Path('/media/virk/MyEHDD/ITS/2_dti')"
   ]
  },
  {
   "cell_type": "code",
   "execution_count": 6,
   "id": "b0d3f60d",
   "metadata": {
    "ExecuteTime": {
     "end_time": "2021-11-03T17:57:03.658200Z",
     "start_time": "2021-11-03T17:57:03.521221Z"
    },
    "scrolled": true
   },
   "outputs": [
    {
     "name": "stdout",
     "output_type": "stream",
     "text": [
      "\u001b[0m\u001b[01;32mANGIOs903a1009A.nii.gz\u001b[0m        \u001b[01;32mSag3DFLAIRs601a1006.txt\u001b[0m\r\n",
      "\u001b[01;32mANGIOs903a1009A.txt\u001b[0m           \u001b[01;32mSag3DT1s1101a1011.nii.gz\u001b[0m\r\n",
      "\u001b[01;32mANGIOs903a1009B.nii.gz\u001b[0m        \u001b[01;32mSag3DT1s1101a1011.txt\u001b[0m\r\n",
      "\u001b[01;32mANGIOs903a1009B.txt\u001b[0m           \u001b[01;32mSurveys101a1001A.nii.gz\u001b[0m\r\n",
      "\u001b[01;32mANGIOs903a1009C.nii.gz\u001b[0m        \u001b[01;32mSurveys101a1001A.txt\u001b[0m\r\n",
      "\u001b[01;32mANGIOs903a1009C.txt\u001b[0m           \u001b[01;32mSurveys101a1001B.nii.gz\u001b[0m\r\n",
      "\u001b[01;32mANGIOs903a1009D.nii.gz\u001b[0m        \u001b[01;32mSurveys101a1001B.txt\u001b[0m\r\n",
      "\u001b[01;32mANGIOs903a1009D.txt\u001b[0m           \u001b[01;32mSurveys101a1001.nii.gz\u001b[0m\r\n",
      "\u001b[01;32mANGIOs903a1009E.nii.gz\u001b[0m        \u001b[01;32mSurveys101a1001.txt\u001b[0m\r\n",
      "\u001b[01;32mANGIOs903a1009E.txt\u001b[0m           \u001b[01;32mT1W3DTFEs201a1002.nii.gz\u001b[0m\r\n",
      "\u001b[01;32mANGIOs903a1009F.nii.gz\u001b[0m        \u001b[01;32mT1W3DTFEs201a1002.txt\u001b[0m\r\n",
      "\u001b[01;32mANGIOs903a1009F.txt\u001b[0m           \u001b[01;32mT23Ds301a1003.nii.gz\u001b[0m\r\n",
      "\u001b[01;32mANGIOs903a1009G.nii.gz\u001b[0m        \u001b[01;32mT23Ds301a1003.txt\u001b[0m\r\n",
      "\u001b[01;32mANGIOs903a1009G.txt\u001b[0m           \u001b[01;32mTRAs1102a1011.nii.gz\u001b[0m\r\n",
      "\u001b[01;32mANGIOs903a1009H.nii.gz\u001b[0m        \u001b[01;32mTRAs1102a1011.txt\u001b[0m\r\n",
      "\u001b[01;32mANGIOs903a1009H.txt\u001b[0m           \u001b[01;32mTRAs1103a1011.nii.gz\u001b[0m\r\n",
      "\u001b[01;32mANGIOs903a1009I.nii.gz\u001b[0m        \u001b[01;32mTRAs1103a1011.txt\u001b[0m\r\n",
      "\u001b[01;32mANGIOs903a1009I.txt\u001b[0m           \u001b[01;32mTRAs1104a1011.nii.gz\u001b[0m\r\n",
      "\u001b[01;32mANGIOs903a1009.nii.gz\u001b[0m         \u001b[01;32mTRAs1104a1011.txt\u001b[0m\r\n",
      "\u001b[01;32mANGIOs903a1009.txt\u001b[0m            \u001b[01;32mTRAs1105a1011.nii.gz\u001b[0m\r\n",
      "\u001b[01;32mANGIOs904a1009A.nii.gz\u001b[0m        \u001b[01;32mTRAs1105a1011.txt\u001b[0m\r\n",
      "\u001b[01;32mANGIOs904a1009A.txt\u001b[0m           \u001b[01;32mTRAs202a1002.nii.gz\u001b[0m\r\n",
      "\u001b[01;32mANGIOs904a1009B.nii.gz\u001b[0m        \u001b[01;32mTRAs202a1002.txt\u001b[0m\r\n",
      "\u001b[01;32mANGIOs904a1009B.txt\u001b[0m           \u001b[01;32mTRAs302a1003.nii.gz\u001b[0m\r\n",
      "\u001b[01;32mANGIOs904a1009C.nii.gz\u001b[0m        \u001b[01;32mTRAs302a1003.txt\u001b[0m\r\n",
      "\u001b[01;32mANGIOs904a1009C.txt\u001b[0m           \u001b[01;32mTRAs303a1003.nii.gz\u001b[0m\r\n",
      "\u001b[01;32mANGIOs904a1009D.nii.gz\u001b[0m        \u001b[01;32mTRAs303a1003.txt\u001b[0m\r\n",
      "\u001b[01;32mANGIOs904a1009D.txt\u001b[0m           \u001b[01;32mTRAs602a1006.nii.gz\u001b[0m\r\n",
      "\u001b[01;32mANGIOs904a1009E.nii.gz\u001b[0m        \u001b[01;32mTRAs602a1006.txt\u001b[0m\r\n",
      "\u001b[01;32mANGIOs904a1009E.txt\u001b[0m           \u001b[01;32mTRAs603a1006.nii.gz\u001b[0m\r\n",
      "\u001b[01;32mANGIOs904a1009F.nii.gz\u001b[0m        \u001b[01;32mTRAs603a1006.txt\u001b[0m\r\n",
      "\u001b[01;32mANGIOs904a1009F.txt\u001b[0m           \u001b[01;32mVENOs1003a1010A.nii.gz\u001b[0m\r\n",
      "\u001b[01;32mANGIOs904a1009G.nii.gz\u001b[0m        \u001b[01;32mVENOs1003a1010A.txt\u001b[0m\r\n",
      "\u001b[01;32mANGIOs904a1009G.txt\u001b[0m           \u001b[01;32mVENOs1003a1010B.nii.gz\u001b[0m\r\n",
      "\u001b[01;32mANGIOs904a1009H.nii.gz\u001b[0m        \u001b[01;32mVENOs1003a1010B.txt\u001b[0m\r\n",
      "\u001b[01;32mANGIOs904a1009H.txt\u001b[0m           \u001b[01;32mVENOs1003a1010C.nii.gz\u001b[0m\r\n",
      "\u001b[01;32mANGIOs904a1009I.nii.gz\u001b[0m        \u001b[01;32mVENOs1003a1010C.txt\u001b[0m\r\n",
      "\u001b[01;32mANGIOs904a1009I.txt\u001b[0m           \u001b[01;32mVENOs1003a1010D.nii.gz\u001b[0m\r\n",
      "\u001b[01;32mANGIOs904a1009.nii.gz\u001b[0m         \u001b[01;32mVENOs1003a1010D.txt\u001b[0m\r\n",
      "\u001b[01;32mANGIOs904a1009.txt\u001b[0m            \u001b[01;32mVENOs1003a1010E.nii.gz\u001b[0m\r\n",
      "\u001b[01;32mAxDWIs801a1008.nii.gz\u001b[0m         \u001b[01;32mVENOs1003a1010E.txt\u001b[0m\r\n",
      "\u001b[01;32mAxDWIs801a1008.txt\u001b[0m            \u001b[01;32mVENOs1003a1010F.nii.gz\u001b[0m\r\n",
      "\u001b[01;32mAxSWIphases703a1007.nii.gz\u001b[0m    \u001b[01;32mVENOs1003a1010F.txt\u001b[0m\r\n",
      "\u001b[01;32mAxSWIphases703a1007.txt\u001b[0m       \u001b[01;32mVENOs1003a1010G.nii.gz\u001b[0m\r\n",
      "\u001b[01;32mAxSWIs701a1007.nii.gz\u001b[0m         \u001b[01;32mVENOs1003a1010G.txt\u001b[0m\r\n",
      "\u001b[01;32mAxSWIs701a1007.txt\u001b[0m            \u001b[01;32mVENOs1003a1010H.nii.gz\u001b[0m\r\n",
      "\u001b[01;32mAxSWIs702a1007.nii.gz\u001b[0m         \u001b[01;32mVENOs1003a1010H.txt\u001b[0m\r\n",
      "\u001b[01;32mAxSWIs702a1007.txt\u001b[0m            \u001b[01;32mVENOs1003a1010I.nii.gz\u001b[0m\r\n",
      "\u001b[01;32mcos3DIMCs901a1009.nii.gz\u001b[0m      \u001b[01;32mVENOs1003a1010I.txt\u001b[0m\r\n",
      "\u001b[01;32mcoSag3DT1s1101a1011.nii.gz\u001b[0m    \u001b[01;32mVENOs1003a1010.nii.gz\u001b[0m\r\n",
      "\u001b[01;32mcoVENOTOFs1001a1010.nii.gz\u001b[0m    \u001b[01;32mVENOs1003a1010.txt\u001b[0m\r\n",
      "\u001b[01;32mdDWIs853a1008.nii.gz\u001b[0m          \u001b[01;32mVENOs1004a1010A.nii.gz\u001b[0m\r\n",
      "\u001b[01;32mdDWIs853a1008.txt\u001b[0m             \u001b[01;32mVENOs1004a1010A.txt\u001b[0m\r\n",
      "\u001b[01;32mDTImediumisos401a1004.nii.gz\u001b[0m  \u001b[01;32mVENOs1004a1010B.nii.gz\u001b[0m\r\n",
      "\u001b[01;32mDTImediumisos401a1004.txt\u001b[0m     \u001b[01;32mVENOs1004a1010B.txt\u001b[0m\r\n",
      "\u001b[01;32mDTImediumisos501a1005.nii.gz\u001b[0m  \u001b[01;32mVENOs1004a1010C.nii.gz\u001b[0m\r\n",
      "\u001b[01;32mDTImediumisos501a1005.txt\u001b[0m     \u001b[01;32mVENOs1004a1010C.txt\u001b[0m\r\n",
      "\u001b[01;32misoDWIs802a1008.nii.gz\u001b[0m        \u001b[01;32mVENOs1004a1010D.nii.gz\u001b[0m\r\n",
      "\u001b[01;32misoDWIs802a1008.txt\u001b[0m           \u001b[01;32mVENOs1004a1010D.txt\u001b[0m\r\n",
      "\u001b[01;32mMIPs3DIMCs902a1009A.nii.gz\u001b[0m    \u001b[01;32mVENOs1004a1010E.nii.gz\u001b[0m\r\n",
      "\u001b[01;32mMIPs3DIMCs902a1009A.txt\u001b[0m       \u001b[01;32mVENOs1004a1010E.txt\u001b[0m\r\n",
      "\u001b[01;32mMIPs3DIMCs902a1009B.nii.gz\u001b[0m    \u001b[01;32mVENOs1004a1010F.nii.gz\u001b[0m\r\n",
      "\u001b[01;32mMIPs3DIMCs902a1009B.txt\u001b[0m       \u001b[01;32mVENOs1004a1010F.txt\u001b[0m\r\n",
      "\u001b[01;32mMIPs3DIMCs902a1009.nii.gz\u001b[0m     \u001b[01;32mVENOs1004a1010G.nii.gz\u001b[0m\r\n",
      "\u001b[01;32mMIPs3DIMCs902a1009.txt\u001b[0m        \u001b[01;32mVENOs1004a1010G.txt\u001b[0m\r\n",
      "\u001b[01;32mMIPVENOTOFs1002a1010A.nii.gz\u001b[0m  \u001b[01;32mVENOs1004a1010H.nii.gz\u001b[0m\r\n",
      "\u001b[01;32mMIPVENOTOFs1002a1010A.txt\u001b[0m     \u001b[01;32mVENOs1004a1010H.txt\u001b[0m\r\n",
      "\u001b[01;32mMIPVENOTOFs1002a1010B.nii.gz\u001b[0m  \u001b[01;32mVENOs1004a1010I.nii.gz\u001b[0m\r\n",
      "\u001b[01;32mMIPVENOTOFs1002a1010B.txt\u001b[0m     \u001b[01;32mVENOs1004a1010I.txt\u001b[0m\r\n",
      "\u001b[01;32mMIPVENOTOFs1002a1010.nii.gz\u001b[0m   \u001b[01;32mVENOs1004a1010.nii.gz\u001b[0m\r\n",
      "\u001b[01;32mMIPVENOTOFs1002a1010.txt\u001b[0m      \u001b[01;32mVENOs1004a1010.txt\u001b[0m\r\n",
      "\u001b[01;32mos3DIMCs901a1009.nii.gz\u001b[0m       \u001b[01;32mVENOTOFs1001a1010.nii.gz\u001b[0m\r\n",
      "\u001b[01;32moSag3DFLAIRs1201a1012.nii.gz\u001b[0m  \u001b[01;32mVENOTOFs1001a1010.txt\u001b[0m\r\n",
      "\u001b[01;32moSag3DFLAIRs601a1006.nii.gz\u001b[0m   \u001b[01;32mxAxDWIs801a1008.bval\u001b[0m\r\n",
      "\u001b[01;32moSag3DT1s1101a1011.nii.gz\u001b[0m     \u001b[01;32mxAxDWIs801a1008.bvec\u001b[0m\r\n",
      "\u001b[01;32moT23Ds301a1003.nii.gz\u001b[0m         \u001b[01;32mxAxDWIs801a1008.nii.gz\u001b[0m\r\n",
      "\u001b[01;32moVENOTOFs1001a1010.nii.gz\u001b[0m     \u001b[01;32mxDTImediumisos401a1004.bval\u001b[0m\r\n",
      "\u001b[01;32ms3DIMCs901a1009.nii.gz\u001b[0m        \u001b[01;32mxDTImediumisos401a1004.bvec\u001b[0m\r\n",
      "\u001b[01;32ms3DIMCs901a1009.txt\u001b[0m           \u001b[01;32mxDTImediumisos401a1004.nii.gz\u001b[0m\r\n",
      "\u001b[01;32mSag3DFLAIRs1201a1012.nii.gz\u001b[0m   \u001b[01;32mxDTImediumisos501a1005.bval\u001b[0m\r\n",
      "\u001b[01;32mSag3DFLAIRs1201a1012.txt\u001b[0m      \u001b[01;32mxDTImediumisos501a1005.bvec\u001b[0m\r\n",
      "\u001b[01;32mSag3DFLAIRs601a1006.nii.gz\u001b[0m    \u001b[01;32mxDTImediumisos501a1005.nii.gz\u001b[0m\r\n"
     ]
    }
   ],
   "source": [
    "!ls {input_path}"
   ]
  },
  {
   "cell_type": "code",
   "execution_count": 22,
   "id": "a59a4c80",
   "metadata": {
    "ExecuteTime": {
     "end_time": "2021-11-03T18:06:21.899534Z",
     "start_time": "2021-11-03T18:06:21.889360Z"
    }
   },
   "outputs": [],
   "source": []
  },
  {
   "cell_type": "code",
   "execution_count": 24,
   "id": "de5780d9",
   "metadata": {
    "ExecuteTime": {
     "end_time": "2021-11-03T18:06:35.801451Z",
     "start_time": "2021-11-03T18:06:35.734130Z"
    }
   },
   "outputs": [
    {
     "data": {
      "text/plain": [
       "0"
      ]
     },
     "execution_count": 24,
     "metadata": {},
     "output_type": "execute_result"
    }
   ],
   "source": [
    "locate(input_path, output_path, protocol_names=CNF.protocol_names, n_gradients=CNF.n_gradients, ret_paths=False)"
   ]
  },
  {
   "cell_type": "code",
   "execution_count": 20,
   "id": "f68766a3",
   "metadata": {
    "ExecuteTime": {
     "end_time": "2021-11-03T18:02:49.713574Z",
     "start_time": "2021-11-03T18:02:49.711405Z"
    }
   },
   "outputs": [],
   "source": [
    "import shutil"
   ]
  },
  {
   "cell_type": "code",
   "execution_count": 21,
   "id": "6986fdd5",
   "metadata": {
    "ExecuteTime": {
     "end_time": "2021-11-03T18:04:24.831582Z",
     "start_time": "2021-11-03T18:04:24.820499Z"
    }
   },
   "outputs": [
    {
     "data": {
      "text/plain": [
       "'xDTImediumisos501a1005.bval'"
      ]
     },
     "execution_count": 21,
     "metadata": {},
     "output_type": "execute_result"
    }
   ],
   "source": [
    "Path('/media/virk/MyEHDD/ITS/1_nifti/1_1/xDTImediumisos501a1005.bval').name"
   ]
  },
  {
   "cell_type": "code",
   "execution_count": null,
   "id": "bee458bd",
   "metadata": {},
   "outputs": [],
   "source": []
  }
 ],
 "metadata": {
  "kernelspec": {
   "display_name": "Python (venv)",
   "language": "python",
   "name": "venv"
  },
  "language_info": {
   "codemirror_mode": {
    "name": "ipython",
    "version": 3
   },
   "file_extension": ".py",
   "mimetype": "text/x-python",
   "name": "python",
   "nbconvert_exporter": "python",
   "pygments_lexer": "ipython3",
   "version": "3.8.10"
  },
  "latex_envs": {
   "LaTeX_envs_menu_present": true,
   "autoclose": false,
   "autocomplete": true,
   "bibliofile": "biblio.bib",
   "cite_by": "apalike",
   "current_citInitial": 1,
   "eqLabelWithNumbers": true,
   "eqNumInitial": 1,
   "hotkeys": {
    "equation": "Ctrl-E",
    "itemize": "Ctrl-I"
   },
   "labels_anchors": false,
   "latex_user_defs": false,
   "report_style_numbering": false,
   "user_envs_cfg": false
  }
 },
 "nbformat": 4,
 "nbformat_minor": 5
}
