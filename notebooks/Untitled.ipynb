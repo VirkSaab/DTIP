{
 "cells": [
  {
   "cell_type": "code",
   "execution_count": 1,
   "id": "9fb1f3b5",
   "metadata": {
    "ExecuteTime": {
     "end_time": "2021-11-03T17:57:03.185597Z",
     "start_time": "2021-11-03T17:57:03.062157Z"
    }
   },
   "outputs": [
    {
     "name": "stdout",
     "output_type": "stream",
     "text": [
      "/home/virk/devs/WorkProjects/DTIP/venv/bin/pip\r\n"
     ]
    }
   ],
   "source": [
    "!which pip"
   ]
  },
  {
   "cell_type": "code",
   "execution_count": 2,
   "id": "39708e30",
   "metadata": {
    "ExecuteTime": {
     "end_time": "2021-11-03T17:57:03.499096Z",
     "start_time": "2021-11-03T17:57:03.189363Z"
    }
   },
   "outputs": [
    {
     "data": {
      "text/plain": [
       "True"
      ]
     },
     "execution_count": 2,
     "metadata": {},
     "output_type": "execute_result"
    }
   ],
   "source": [
    "from fsl.data import dicom\n",
    "\n",
    "from dtip.utils import load_config, ROOT_DIR\n",
    "\n",
    "\n",
    "# Returns True if dcm2niix is present, and recent enough, False otherwise.\n",
    "dicom.enabled()"
   ]
  },
  {
   "cell_type": "code",
   "execution_count": 3,
   "id": "400c8835",
   "metadata": {
    "ExecuteTime": {
     "end_time": "2021-11-03T17:57:03.511113Z",
     "start_time": "2021-11-03T17:57:03.501499Z"
    }
   },
   "outputs": [],
   "source": [
    "CNF = load_config(ROOT_DIR/'config/default.yaml')"
   ]
  },
  {
   "cell_type": "code",
   "execution_count": 11,
   "id": "60bad77c",
   "metadata": {
    "ExecuteTime": {
     "end_time": "2021-11-03T17:57:46.863466Z",
     "start_time": "2021-11-03T17:57:46.857355Z"
    }
   },
   "outputs": [],
   "source": [
    "import nibabel as nib\n",
    "from pathlib import Path"
   ]
  },
  {
   "cell_type": "code",
   "execution_count": 5,
   "id": "4586d5d7",
   "metadata": {
    "ExecuteTime": {
     "end_time": "2021-11-03T17:57:03.519974Z",
     "start_time": "2021-11-03T17:57:03.516153Z"
    }
   },
   "outputs": [],
   "source": [
    "input_path = Path('/media/virk/MyEHDD/ITS/1_nifti/1_1')\n",
    "output_path = Path('/media/virk/MyEHDD/ITS/2_dti')"
   ]
  },
  {
   "cell_type": "code",
   "execution_count": 6,
   "id": "01b1d92d",
   "metadata": {
    "ExecuteTime": {
     "end_time": "2021-11-03T17:57:03.658200Z",
     "start_time": "2021-11-03T17:57:03.521221Z"
    },
    "scrolled": true
   },
   "outputs": [
    {
     "name": "stdout",
     "output_type": "stream",
     "text": [
      "\u001b[0m\u001b[01;32mANGIOs903a1009A.nii.gz\u001b[0m        \u001b[01;32mSag3DFLAIRs601a1006.txt\u001b[0m\r\n",
      "\u001b[01;32mANGIOs903a1009A.txt\u001b[0m           \u001b[01;32mSag3DT1s1101a1011.nii.gz\u001b[0m\r\n",
      "\u001b[01;32mANGIOs903a1009B.nii.gz\u001b[0m        \u001b[01;32mSag3DT1s1101a1011.txt\u001b[0m\r\n",
      "\u001b[01;32mANGIOs903a1009B.txt\u001b[0m           \u001b[01;32mSurveys101a1001A.nii.gz\u001b[0m\r\n",
      "\u001b[01;32mANGIOs903a1009C.nii.gz\u001b[0m        \u001b[01;32mSurveys101a1001A.txt\u001b[0m\r\n",
      "\u001b[01;32mANGIOs903a1009C.txt\u001b[0m           \u001b[01;32mSurveys101a1001B.nii.gz\u001b[0m\r\n",
      "\u001b[01;32mANGIOs903a1009D.nii.gz\u001b[0m        \u001b[01;32mSurveys101a1001B.txt\u001b[0m\r\n",
      "\u001b[01;32mANGIOs903a1009D.txt\u001b[0m           \u001b[01;32mSurveys101a1001.nii.gz\u001b[0m\r\n",
      "\u001b[01;32mANGIOs903a1009E.nii.gz\u001b[0m        \u001b[01;32mSurveys101a1001.txt\u001b[0m\r\n",
      "\u001b[01;32mANGIOs903a1009E.txt\u001b[0m           \u001b[01;32mT1W3DTFEs201a1002.nii.gz\u001b[0m\r\n",
      "\u001b[01;32mANGIOs903a1009F.nii.gz\u001b[0m        \u001b[01;32mT1W3DTFEs201a1002.txt\u001b[0m\r\n",
      "\u001b[01;32mANGIOs903a1009F.txt\u001b[0m           \u001b[01;32mT23Ds301a1003.nii.gz\u001b[0m\r\n",
      "\u001b[01;32mANGIOs903a1009G.nii.gz\u001b[0m        \u001b[01;32mT23Ds301a1003.txt\u001b[0m\r\n",
      "\u001b[01;32mANGIOs903a1009G.txt\u001b[0m           \u001b[01;32mTRAs1102a1011.nii.gz\u001b[0m\r\n",
      "\u001b[01;32mANGIOs903a1009H.nii.gz\u001b[0m        \u001b[01;32mTRAs1102a1011.txt\u001b[0m\r\n",
      "\u001b[01;32mANGIOs903a1009H.txt\u001b[0m           \u001b[01;32mTRAs1103a1011.nii.gz\u001b[0m\r\n",
      "\u001b[01;32mANGIOs903a1009I.nii.gz\u001b[0m        \u001b[01;32mTRAs1103a1011.txt\u001b[0m\r\n",
      "\u001b[01;32mANGIOs903a1009I.txt\u001b[0m           \u001b[01;32mTRAs1104a1011.nii.gz\u001b[0m\r\n",
      "\u001b[01;32mANGIOs903a1009.nii.gz\u001b[0m         \u001b[01;32mTRAs1104a1011.txt\u001b[0m\r\n",
      "\u001b[01;32mANGIOs903a1009.txt\u001b[0m            \u001b[01;32mTRAs1105a1011.nii.gz\u001b[0m\r\n",
      "\u001b[01;32mANGIOs904a1009A.nii.gz\u001b[0m        \u001b[01;32mTRAs1105a1011.txt\u001b[0m\r\n",
      "\u001b[01;32mANGIOs904a1009A.txt\u001b[0m           \u001b[01;32mTRAs202a1002.nii.gz\u001b[0m\r\n",
      "\u001b[01;32mANGIOs904a1009B.nii.gz\u001b[0m        \u001b[01;32mTRAs202a1002.txt\u001b[0m\r\n",
      "\u001b[01;32mANGIOs904a1009B.txt\u001b[0m           \u001b[01;32mTRAs302a1003.nii.gz\u001b[0m\r\n",
      "\u001b[01;32mANGIOs904a1009C.nii.gz\u001b[0m        \u001b[01;32mTRAs302a1003.txt\u001b[0m\r\n",
      "\u001b[01;32mANGIOs904a1009C.txt\u001b[0m           \u001b[01;32mTRAs303a1003.nii.gz\u001b[0m\r\n",
      "\u001b[01;32mANGIOs904a1009D.nii.gz\u001b[0m        \u001b[01;32mTRAs303a1003.txt\u001b[0m\r\n",
      "\u001b[01;32mANGIOs904a1009D.txt\u001b[0m           \u001b[01;32mTRAs602a1006.nii.gz\u001b[0m\r\n",
      "\u001b[01;32mANGIOs904a1009E.nii.gz\u001b[0m        \u001b[01;32mTRAs602a1006.txt\u001b[0m\r\n",
      "\u001b[01;32mANGIOs904a1009E.txt\u001b[0m           \u001b[01;32mTRAs603a1006.nii.gz\u001b[0m\r\n",
      "\u001b[01;32mANGIOs904a1009F.nii.gz\u001b[0m        \u001b[01;32mTRAs603a1006.txt\u001b[0m\r\n",
      "\u001b[01;32mANGIOs904a1009F.txt\u001b[0m           \u001b[01;32mVENOs1003a1010A.nii.gz\u001b[0m\r\n",
      "\u001b[01;32mANGIOs904a1009G.nii.gz\u001b[0m        \u001b[01;32mVENOs1003a1010A.txt\u001b[0m\r\n",
      "\u001b[01;32mANGIOs904a1009G.txt\u001b[0m           \u001b[01;32mVENOs1003a1010B.nii.gz\u001b[0m\r\n",
      "\u001b[01;32mANGIOs904a1009H.nii.gz\u001b[0m        \u001b[01;32mVENOs1003a1010B.txt\u001b[0m\r\n",
      "\u001b[01;32mANGIOs904a1009H.txt\u001b[0m           \u001b[01;32mVENOs1003a1010C.nii.gz\u001b[0m\r\n",
      "\u001b[01;32mANGIOs904a1009I.nii.gz\u001b[0m        \u001b[01;32mVENOs1003a1010C.txt\u001b[0m\r\n",
      "\u001b[01;32mANGIOs904a1009I.txt\u001b[0m           \u001b[01;32mVENOs1003a1010D.nii.gz\u001b[0m\r\n",
      "\u001b[01;32mANGIOs904a1009.nii.gz\u001b[0m         \u001b[01;32mVENOs1003a1010D.txt\u001b[0m\r\n",
      "\u001b[01;32mANGIOs904a1009.txt\u001b[0m            \u001b[01;32mVENOs1003a1010E.nii.gz\u001b[0m\r\n",
      "\u001b[01;32mAxDWIs801a1008.nii.gz\u001b[0m         \u001b[01;32mVENOs1003a1010E.txt\u001b[0m\r\n",
      "\u001b[01;32mAxDWIs801a1008.txt\u001b[0m            \u001b[01;32mVENOs1003a1010F.nii.gz\u001b[0m\r\n",
      "\u001b[01;32mAxSWIphases703a1007.nii.gz\u001b[0m    \u001b[01;32mVENOs1003a1010F.txt\u001b[0m\r\n",
      "\u001b[01;32mAxSWIphases703a1007.txt\u001b[0m       \u001b[01;32mVENOs1003a1010G.nii.gz\u001b[0m\r\n",
      "\u001b[01;32mAxSWIs701a1007.nii.gz\u001b[0m         \u001b[01;32mVENOs1003a1010G.txt\u001b[0m\r\n",
      "\u001b[01;32mAxSWIs701a1007.txt\u001b[0m            \u001b[01;32mVENOs1003a1010H.nii.gz\u001b[0m\r\n",
      "\u001b[01;32mAxSWIs702a1007.nii.gz\u001b[0m         \u001b[01;32mVENOs1003a1010H.txt\u001b[0m\r\n",
      "\u001b[01;32mAxSWIs702a1007.txt\u001b[0m            \u001b[01;32mVENOs1003a1010I.nii.gz\u001b[0m\r\n",
      "\u001b[01;32mcos3DIMCs901a1009.nii.gz\u001b[0m      \u001b[01;32mVENOs1003a1010I.txt\u001b[0m\r\n",
      "\u001b[01;32mcoSag3DT1s1101a1011.nii.gz\u001b[0m    \u001b[01;32mVENOs1003a1010.nii.gz\u001b[0m\r\n",
      "\u001b[01;32mcoVENOTOFs1001a1010.nii.gz\u001b[0m    \u001b[01;32mVENOs1003a1010.txt\u001b[0m\r\n",
      "\u001b[01;32mdDWIs853a1008.nii.gz\u001b[0m          \u001b[01;32mVENOs1004a1010A.nii.gz\u001b[0m\r\n",
      "\u001b[01;32mdDWIs853a1008.txt\u001b[0m             \u001b[01;32mVENOs1004a1010A.txt\u001b[0m\r\n",
      "\u001b[01;32mDTImediumisos401a1004.nii.gz\u001b[0m  \u001b[01;32mVENOs1004a1010B.nii.gz\u001b[0m\r\n",
      "\u001b[01;32mDTImediumisos401a1004.txt\u001b[0m     \u001b[01;32mVENOs1004a1010B.txt\u001b[0m\r\n",
      "\u001b[01;32mDTImediumisos501a1005.nii.gz\u001b[0m  \u001b[01;32mVENOs1004a1010C.nii.gz\u001b[0m\r\n",
      "\u001b[01;32mDTImediumisos501a1005.txt\u001b[0m     \u001b[01;32mVENOs1004a1010C.txt\u001b[0m\r\n",
      "\u001b[01;32misoDWIs802a1008.nii.gz\u001b[0m        \u001b[01;32mVENOs1004a1010D.nii.gz\u001b[0m\r\n",
      "\u001b[01;32misoDWIs802a1008.txt\u001b[0m           \u001b[01;32mVENOs1004a1010D.txt\u001b[0m\r\n",
      "\u001b[01;32mMIPs3DIMCs902a1009A.nii.gz\u001b[0m    \u001b[01;32mVENOs1004a1010E.nii.gz\u001b[0m\r\n",
      "\u001b[01;32mMIPs3DIMCs902a1009A.txt\u001b[0m       \u001b[01;32mVENOs1004a1010E.txt\u001b[0m\r\n",
      "\u001b[01;32mMIPs3DIMCs902a1009B.nii.gz\u001b[0m    \u001b[01;32mVENOs1004a1010F.nii.gz\u001b[0m\r\n",
      "\u001b[01;32mMIPs3DIMCs902a1009B.txt\u001b[0m       \u001b[01;32mVENOs1004a1010F.txt\u001b[0m\r\n",
      "\u001b[01;32mMIPs3DIMCs902a1009.nii.gz\u001b[0m     \u001b[01;32mVENOs1004a1010G.nii.gz\u001b[0m\r\n",
      "\u001b[01;32mMIPs3DIMCs902a1009.txt\u001b[0m        \u001b[01;32mVENOs1004a1010G.txt\u001b[0m\r\n",
      "\u001b[01;32mMIPVENOTOFs1002a1010A.nii.gz\u001b[0m  \u001b[01;32mVENOs1004a1010H.nii.gz\u001b[0m\r\n",
      "\u001b[01;32mMIPVENOTOFs1002a1010A.txt\u001b[0m     \u001b[01;32mVENOs1004a1010H.txt\u001b[0m\r\n",
      "\u001b[01;32mMIPVENOTOFs1002a1010B.nii.gz\u001b[0m  \u001b[01;32mVENOs1004a1010I.nii.gz\u001b[0m\r\n",
      "\u001b[01;32mMIPVENOTOFs1002a1010B.txt\u001b[0m     \u001b[01;32mVENOs1004a1010I.txt\u001b[0m\r\n",
      "\u001b[01;32mMIPVENOTOFs1002a1010.nii.gz\u001b[0m   \u001b[01;32mVENOs1004a1010.nii.gz\u001b[0m\r\n",
      "\u001b[01;32mMIPVENOTOFs1002a1010.txt\u001b[0m      \u001b[01;32mVENOs1004a1010.txt\u001b[0m\r\n",
      "\u001b[01;32mos3DIMCs901a1009.nii.gz\u001b[0m       \u001b[01;32mVENOTOFs1001a1010.nii.gz\u001b[0m\r\n",
      "\u001b[01;32moSag3DFLAIRs1201a1012.nii.gz\u001b[0m  \u001b[01;32mVENOTOFs1001a1010.txt\u001b[0m\r\n",
      "\u001b[01;32moSag3DFLAIRs601a1006.nii.gz\u001b[0m   \u001b[01;32mxAxDWIs801a1008.bval\u001b[0m\r\n",
      "\u001b[01;32moSag3DT1s1101a1011.nii.gz\u001b[0m     \u001b[01;32mxAxDWIs801a1008.bvec\u001b[0m\r\n",
      "\u001b[01;32moT23Ds301a1003.nii.gz\u001b[0m         \u001b[01;32mxAxDWIs801a1008.nii.gz\u001b[0m\r\n",
      "\u001b[01;32moVENOTOFs1001a1010.nii.gz\u001b[0m     \u001b[01;32mxDTImediumisos401a1004.bval\u001b[0m\r\n",
      "\u001b[01;32ms3DIMCs901a1009.nii.gz\u001b[0m        \u001b[01;32mxDTImediumisos401a1004.bvec\u001b[0m\r\n",
      "\u001b[01;32ms3DIMCs901a1009.txt\u001b[0m           \u001b[01;32mxDTImediumisos401a1004.nii.gz\u001b[0m\r\n",
      "\u001b[01;32mSag3DFLAIRs1201a1012.nii.gz\u001b[0m   \u001b[01;32mxDTImediumisos501a1005.bval\u001b[0m\r\n",
      "\u001b[01;32mSag3DFLAIRs1201a1012.txt\u001b[0m      \u001b[01;32mxDTImediumisos501a1005.bvec\u001b[0m\r\n",
      "\u001b[01;32mSag3DFLAIRs601a1006.nii.gz\u001b[0m    \u001b[01;32mxDTImediumisos501a1005.nii.gz\u001b[0m\r\n"
     ]
    }
   ],
   "source": [
    "!ls {input_path}"
   ]
  },
  {
   "cell_type": "code",
   "execution_count": 22,
   "id": "ca275e23",
   "metadata": {
    "ExecuteTime": {
     "end_time": "2021-11-03T18:06:21.899534Z",
     "start_time": "2021-11-03T18:06:21.889360Z"
    }
   },
   "outputs": [],
   "source": []
  },
  {
   "cell_type": "code",
   "execution_count": 25,
   "id": "0c91c9fd",
   "metadata": {
    "ExecuteTime": {
     "end_time": "2021-11-03T23:12:44.306219Z",
     "start_time": "2021-11-03T23:12:44.297565Z"
    }
   },
   "outputs": [
    {
     "data": {
      "text/plain": [
       "PosixPath('/media/virk/MyEHDD/ITS/1_nifti/1_1/xDTImediumisos501a1005.nii.gz')"
      ]
     },
     "execution_count": 25,
     "metadata": {},
     "output_type": "execute_result"
    }
   ],
   "source": [
    "imgpath = Path('/media/virk/MyEHDD/ITS/1_nifti/1_1/xDTImediumisos501a1005.nii.gz')\n",
    "imgpath"
   ]
  },
  {
   "cell_type": "code",
   "execution_count": 27,
   "id": "a1814660",
   "metadata": {
    "ExecuteTime": {
     "end_time": "2021-11-03T23:13:14.462657Z",
     "start_time": "2021-11-03T23:13:14.457613Z"
    }
   },
   "outputs": [],
   "source": [
    "img = nib.load(imgpath)"
   ]
  },
  {
   "cell_type": "code",
   "execution_count": 32,
   "id": "c2235c54",
   "metadata": {
    "ExecuteTime": {
     "end_time": "2021-11-03T23:14:23.159601Z",
     "start_time": "2021-11-03T23:14:23.151565Z"
    }
   },
   "outputs": [
    {
     "data": {
      "text/plain": [
       "<nibabel.nifti1.Nifti1Header at 0x7f5e6056a580>"
      ]
     },
     "execution_count": 32,
     "metadata": {},
     "output_type": "execute_result"
    }
   ],
   "source": [
    "img.header."
   ]
  },
  {
   "cell_type": "code",
   "execution_count": 52,
   "id": "5518d328",
   "metadata": {
    "ExecuteTime": {
     "end_time": "2021-11-03T23:40:17.097379Z",
     "start_time": "2021-11-03T23:40:17.091436Z"
    }
   },
   "outputs": [],
   "source": [
    "from dtip.convert import method_dcm2niix"
   ]
  },
  {
   "cell_type": "code",
   "execution_count": 53,
   "id": "f39a8d57",
   "metadata": {
    "ExecuteTime": {
     "end_time": "2021-11-03T23:40:20.375212Z",
     "start_time": "2021-11-03T23:40:20.369779Z"
    }
   },
   "outputs": [],
   "source": [
    "src = '/media/virk/MyEHDD/PGI_ITS_RAW/RAW/1_1'\n",
    "dst = 'test2'"
   ]
  },
  {
   "cell_type": "code",
   "execution_count": 58,
   "id": "a817f3ca",
   "metadata": {
    "ExecuteTime": {
     "end_time": "2021-11-03T23:41:18.101865Z",
     "start_time": "2021-11-03T23:41:02.261523Z"
    },
    "scrolled": true
   },
   "outputs": [
    {
     "name": "stdout",
     "output_type": "stream",
     "text": [
      "dcm2niix conversion... [ =    ]\u001b[0m\u001b[33m\u001b[33m\u001b[33m\u001b[33m\u001b[33m\u001b[33m\u001b[33m\u001b[33m\u001b[33m\u001b[33m\u001b[33m\u001b[33m\u001b[33m\u001b[33m\u001b[33m\u001b[33m\u001b[33m\u001b[33m\u001b[33m\u001b[33m\u001b[33m\u001b[33m\u001b[33m\u001b[33m\u001b[33m\u001b[33m\u001b[33m\u001b[33m\u001b[33m\u001b[33m\u001b[33m\u001b[33m\u001b[33m\u001b[33m\u001b[33m\u001b[33m\u001b[33m\u001b[33m\u001b[33mChris Rorden's dcm2niiX version v1.0.20181125  (JP2:OpenJPEG) GCC9.3.0 (64-bit Linux)\n",
      "Found 4090 DICOM file(s)\n",
      "Skipping Spectroscopy DICOM '/media/virk/MyEHDD/PGI_ITS_RAW/RAW/1_1/S13010/I10'\n",
      "Convert 1 DICOM as test2/s2D_PRESS_144_s1301 (20x24x1x2)\n",
      "Warning: Check that 2D images are not mirrored.\n",
      "compress: \"/usr/bin/pigz\" -n -f -6 \"test2/s2D_PRESS_144_s1301.nii\"\n",
      "Using RWVSlope:RWVIntercept = 39.2523:0\n",
      " Philips Scaling Values RS:RI:SS = 39.2523:0:0.184911 (see PMC3998685)\n",
      "Convert 160 DICOM as test2/VENO_TOF_s1001 (400x400x160x1)\n",
      "dcm2niix conversion... [=     ]\u001b[0m\u001b[33m\u001b[33m\u001b[33m\u001b[33m\u001b[33m\u001b[33m\u001b[33m\u001b[33m\u001b[33m\u001b[33mcompress: \"/usr/bin/pigz\" -n -f -6 \"test2/VENO_TOF_s1001.nii\"\n",
      "slices not stacked: orientation varies (vNav or localizer?) [0.999869 -0.00206645 0.0160497 0.0161571 0.072305 -0.997252] != [0.999869 -0.00206645 0.0160497 0.000900296 0.99738 0.0723289]\n",
      "Using RWVSlope:RWVIntercept = 5.22173:0\n",
      " Philips Scaling Values RS:RI:SS = 5.22173:0:0.184911 (see PMC3998685)\n",
      "Convert 1 DICOM as test2/MIP_-_VENO_TOF_s1002_i00001 (400x400x1x1)\n",
      "Warning: Check that 2D images are not mirrored.\n",
      "compress: \"/usr/bin/pigz\" -n -f -6 \"test2/MIP_-_VENO_TOF_s1002_i00001.nii\"\n",
      "Using RWVSlope:RWVIntercept = 5.22173:0\n",
      " Philips Scaling Values RS:RI:SS = 5.22173:0:0.184911 (see PMC3998685)\n",
      "Convert 1 DICOM as test2/MIP_-_VENO_TOF_s1002_i00002 (400x400x1x1)\n",
      "Warning: Check that 2D images are not mirrored.\n",
      "compress: \"/usr/bin/pigz\" -n -f -6 \"test2/MIP_-_VENO_TOF_s1002_i00002.nii\"\n",
      "Using RWVSlope:RWVIntercept = 5.22173:0\n",
      " Philips Scaling Values RS:RI:SS = 5.22173:0:0.184911 (see PMC3998685)\n",
      "Convert 1 DICOM as test2/MIP_-_VENO_TOF_s1002_i00003 (400x400x1x1)\n",
      "Warning: Check that 2D images are not mirrored.\n",
      "compress: \"/usr/bin/pigz\" -n -f -6 \"test2/MIP_-_VENO_TOF_s1002_i00003.nii\"\n",
      "Using RWVSlope:RWVIntercept = 39.2523:0\n",
      " Philips Scaling Values RS:RI:SS = 39.2523:0:0.184911 (see PMC3998685)\n",
      "Convert 1 DICOM as test2/VENO_s1003_i00001_real (400x400x1x1)\n",
      "Warning: Check that 2D images are not mirrored.\n",
      "compress: \"/usr/bin/pigz\" -n -f -6 \"test2/VENO_s1003_i00001_real.nii\"\n",
      "Using RWVSlope:RWVIntercept = 39.2523:0\n",
      " Philips Scaling Values RS:RI:SS = 39.2523:0:0.184911 (see PMC3998685)\n",
      "Convert 1 DICOM as test2/VENO_s1003_i00010_real (400x400x1x1)\n",
      "Warning: Check that 2D images are not mirrored.\n",
      "compress: \"/usr/bin/pigz\" -n -f -6 \"test2/VENO_s1003_i00010_real.nii\"\n",
      "Using RWVSlope:RWVIntercept = 39.2523:0\n",
      " Philips Scaling Values RS:RI:SS = 39.2523:0:0.184911 (see PMC3998685)\n",
      "Convert 1 DICOM as test2/VENO_s1003_i00002_real (400x400x1x1)\n",
      "Warning: Check that 2D images are not mirrored.\n",
      "compress: \"/usr/bin/pigz\" -n -f -6 \"test2/VENO_s1003_i00002_real.nii\"\n",
      "Using RWVSlope:RWVIntercept = 39.2523:0\n",
      " Philips Scaling Values RS:RI:SS = 39.2523:0:0.184911 (see PMC3998685)\n",
      "Convert 1 DICOM as test2/VENO_s1003_i00003_real (400x400x1x1)\n",
      "Warning: Check that 2D images are not mirrored.\n",
      "compress: \"/usr/bin/pigz\" -n -f -6 \"test2/VENO_s1003_i00003_real.nii\"\n",
      "Using RWVSlope:RWVIntercept = 39.2523:0\n",
      " Philips Scaling Values RS:RI:SS = 39.2523:0:0.184911 (see PMC3998685)\n",
      "Convert 1 DICOM as test2/VENO_s1003_i00004_real (400x400x1x1)\n",
      "Warning: Check that 2D images are not mirrored.\n",
      "compress: \"/usr/bin/pigz\" -n -f -6 \"test2/VENO_s1003_i00004_real.nii\"\n",
      "Using RWVSlope:RWVIntercept = 39.2523:0\n",
      " Philips Scaling Values RS:RI:SS = 39.2523:0:0.184911 (see PMC3998685)\n",
      "Convert 1 DICOM as test2/VENO_s1003_i00005_real (400x400x1x1)\n",
      "Warning: Check that 2D images are not mirrored.\n",
      "compress: \"/usr/bin/pigz\" -n -f -6 \"test2/VENO_s1003_i00005_real.nii\"\n",
      "Using RWVSlope:RWVIntercept = 39.2523:0\n",
      " Philips Scaling Values RS:RI:SS = 39.2523:0:0.184911 (see PMC3998685)\n",
      "Convert 1 DICOM as test2/VENO_s1003_i00006_real (400x400x1x1)\n",
      "Warning: Check that 2D images are not mirrored.\n",
      "compress: \"/usr/bin/pigz\" -n -f -6 \"test2/VENO_s1003_i00006_real.nii\"\n",
      "Using RWVSlope:RWVIntercept = 39.2523:0\n",
      " Philips Scaling Values RS:RI:SS = 39.2523:0:0.184911 (see PMC3998685)\n",
      "Convert 1 DICOM as test2/VENO_s1003_i00007_real (400x400x1x1)\n",
      "Warning: Check that 2D images are not mirrored.\n",
      "compress: \"/usr/bin/pigz\" -n -f -6 \"test2/VENO_s1003_i00007_real.nii\"\n",
      "Using RWVSlope:RWVIntercept = 39.2523:0\n",
      " Philips Scaling Values RS:RI:SS = 39.2523:0:0.184911 (see PMC3998685)\n",
      "Convert 1 DICOM as test2/VENO_s1003_i00008_real (400x400x1x1)\n",
      "Warning: Check that 2D images are not mirrored.\n",
      "compress: \"/usr/bin/pigz\" -n -f -6 \"test2/VENO_s1003_i00008_real.nii\"\n",
      "Using RWVSlope:RWVIntercept = 39.2523:0\n",
      " Philips Scaling Values RS:RI:SS = 39.2523:0:0.184911 (see PMC3998685)\n",
      "Convert 1 DICOM as test2/VENO_s1003_i00009_real (400x400x1x1)\n",
      "Warning: Check that 2D images are not mirrored.\n",
      "compress: \"/usr/bin/pigz\" -n -f -6 \"test2/VENO_s1003_i00009_real.nii\"\n",
      "dcm2niix conversion... [  =   ]\u001b[0m33m\u001b[33m2523:0\n",
      " Philips Scaling Values RS:RI:SS = 39.2523:0:0.184911 (see PMC3998685)\n",
      "Convert 1 DICOM as test2/VENO_s1004_i00001_real (400x400x1x1)\n",
      "Warning: Check that 2D images are not mirrored.\n",
      "compress: \"/usr/bin/pigz\" -n -f -6 \"test2/VENO_s1004_i00001_real.nii\"\n",
      "Using RWVSlope:RWVIntercept = 39.2523:0\n",
      " Philips Scaling Values RS:RI:SS = 39.2523:0:0.184911 (see PMC3998685)\n",
      "Convert 1 DICOM as test2/VENO_s1004_i00010_real (400x400x1x1)\n",
      "Warning: Check that 2D images are not mirrored.\n",
      "compress: \"/usr/bin/pigz\" -n -f -6 \"test2/VENO_s1004_i00010_real.nii\"\n",
      "Using RWVSlope:RWVIntercept = 39.2523:0\n",
      " Philips Scaling Values RS:RI:SS = 39.2523:0:0.184911 (see PMC3998685)\n",
      "Convert 1 DICOM as test2/VENO_s1004_i00002_real (400x400x1x1)\n",
      "Warning: Check that 2D images are not mirrored.\n",
      "compress: \"/usr/bin/pigz\" -n -f -6 \"test2/VENO_s1004_i00002_real.nii\"\n",
      "Using RWVSlope:RWVIntercept = 39.2523:0\n",
      " Philips Scaling Values RS:RI:SS = 39.2523:0:0.184911 (see PMC3998685)\n",
      "Convert 1 DICOM as test2/VENO_s1004_i00003_real (400x400x1x1)\n",
      "Warning: Check that 2D images are not mirrored.\n",
      "compress: \"/usr/bin/pigz\" -n -f -6 \"test2/VENO_s1004_i00003_real.nii\"\n",
      "Using RWVSlope:RWVIntercept = 39.2523:0\n",
      " Philips Scaling Values RS:RI:SS = 39.2523:0:0.184911 (see PMC3998685)\n",
      "Convert 1 DICOM as test2/VENO_s1004_i00004_real (400x400x1x1)\n",
      "Warning: Check that 2D images are not mirrored.\n",
      "compress: \"/usr/bin/pigz\" -n -f -6 \"test2/VENO_s1004_i00004_real.nii\"\n",
      "Using RWVSlope:RWVIntercept = 39.2523:0\n",
      " Philips Scaling Values RS:RI:SS = 39.2523:0:0.184911 (see PMC3998685)\n",
      "Convert 1 DICOM as test2/VENO_s1004_i00005_real (400x400x1x1)\n",
      "Warning: Check that 2D images are not mirrored.\n",
      "compress: \"/usr/bin/pigz\" -n -f -6 \"test2/VENO_s1004_i00005_real.nii\"\n",
      "Using RWVSlope:RWVIntercept = 39.2523:0\n",
      " Philips Scaling Values RS:RI:SS = 39.2523:0:0.184911 (see PMC3998685)\n",
      "Convert 1 DICOM as test2/VENO_s1004_i00006_real (400x400x1x1)\n",
      "Warning: Check that 2D images are not mirrored.\n",
      "compress: \"/usr/bin/pigz\" -n -f -6 \"test2/VENO_s1004_i00006_real.nii\"\n",
      "Using RWVSlope:RWVIntercept = 39.2523:0\n",
      " Philips Scaling Values RS:RI:SS = 39.2523:0:0.184911 (see PMC3998685)\n",
      "Convert 1 DICOM as test2/VENO_s1004_i00007_real (400x400x1x1)\n",
      "Warning: Check that 2D images are not mirrored.\n",
      "compress: \"/usr/bin/pigz\" -n -f -6 \"test2/VENO_s1004_i00007_real.nii\"\n",
      "Using RWVSlope:RWVIntercept = 39.2523:0\n",
      " Philips Scaling Values RS:RI:SS = 39.2523:0:0.184911 (see PMC3998685)\n",
      "Convert 1 DICOM as test2/VENO_s1004_i00008_real (400x400x1x1)\n",
      "Warning: Check that 2D images are not mirrored.\n",
      "compress: \"/usr/bin/pigz\" -n -f -6 \"test2/VENO_s1004_i00008_real.nii\"\n",
      "Using RWVSlope:RWVIntercept = 39.2523:0\n",
      " Philips Scaling Values RS:RI:SS = 39.2523:0:0.184911 (see PMC3998685)\n",
      "Convert 1 DICOM as test2/VENO_s1004_i00009_real (400x400x1x1)\n",
      "Warning: Check that 2D images are not mirrored.\n",
      "compress: \"/usr/bin/pigz\" -n -f -6 \"test2/VENO_s1004_i00009_real.nii\"\n",
      "Using RWVSlope:RWVIntercept = 1.58657:0\n",
      " Philips Scaling Values RS:RI:SS = 1.58657:0:0.188727 (see PMC3998685)\n",
      "Convert 3 DICOM as test2/Survey_s101_i00001 (320x320x3x1)\n",
      "compress: \"/usr/bin/pigz\" -n -f -6 \"test2/Survey_s101_i00001.nii\"\n",
      "Using RWVSlope:RWVIntercept = 1.58657:0\n",
      " Philips Scaling Values RS:RI:SS = 1.58657:0:0.188727 (see PMC3998685)\n",
      "Convert 3 DICOM as test2/Survey_s101_i00004 (320x320x3x1)\n",
      "compress: \"/usr/bin/pigz\" -n -f -6 \"test2/Survey_s101_i00004.nii\"\n",
      "Using RWVSlope:RWVIntercept = 1.58657:0\n",
      " Philips Scaling Values RS:RI:SS = 1.58657:0:0.188727 (see PMC3998685)\n",
      "Convert 3 DICOM as test2/Survey_s101_i00007 (320x320x3x1)\n"
     ]
    },
    {
     "name": "stdout",
     "output_type": "stream",
     "text": [
      "dcm2niix conversion... [   =  ]\u001b[0mcompress: \"/usr/bin/pigz\" -n -f -6 \"test2/Survey_s101_i00007.nii\"\n",
      "Dims 320 320 124 1 1\n",
      "Warning: Interslice distance varies in this volume (incompatible with NIfTI format).\n",
      " Distance from first slice:\n",
      "dx=[0 1.00001 2 3.00001 4.00001 5.00001 6.00001 7.00002 8.00001 9.00002 10 11 12 13 14 15 16 17 18 19 20 21 23 24 25 26 27 28 29 30 31 32 33 34 35 36 37 38 39 40 41.0001 42.0001 43.0001 44.0001 45.0001 46.0001 47.0001 48.0001 49.0001 50.0001 51.0001 52.0001 53.0001 54.0001 55.0001 56.0001 57.0001 58.0001 59.0001 60.0001 61.0001 62.0001 63.0001 64.0001 65.0001 66.0001 67.0001 68.0001 69.0001 70.0001 71.0001 72.0001 73.0001 74.0001 75.0001 76.0001 78.0001 79.0001 80.0001 83.0001 86.0001 87.0001 88.0001 90.0001 91.0001 92.0001 93.0001 96.0001 97.0001 98.0001 102 106 109 111 114 117 118 119 121 122 123 125 127 129 130 131 132 133 134 135 136 137 138 139 140 141 142 143 144 145 146 147 148 149]\n",
      "Warning: Missing images? Expected 124 images, but instance number (0020,0013) ranges from 1 to 150\n",
      "instance=[ 1 2 3 4 5 6 7 8 9 10 11 12 13 14 15 16 17 18 19 20 21 22 24 25 26 27 28 29 30 31 32 33 34 35 36 37 38 39 40 41 42 43 44 45 46 47 48 49 50 51 52 53 54 55 56 57 58 59 60 61 62 63 64 65 66 67 68 69 70 71 72 73 74 75 76 77 79 80 81 84 87 88 89 91 92 93 94 97 98 99 103 107 110 112 115 118 119 120 122 123 124 126 128 130 131 132 133 134 135 136 137 138 139 140 141 142 143 144 145 146 147 148 149 150]\n",
      "Using RWVSlope:RWVIntercept = 2.19341:0\n",
      " Philips Scaling Values RS:RI:SS = 2.19341:0:0.00822696 (see PMC3998685)\n",
      "Convert 124 DICOM as test2/Sag_3D_T1_s1101 (320x320x124x1)\n",
      "dcm2niix conversion... [    = ]\u001b[0m\u001b[33m\u001b[33mcompress: \"/usr/bin/pigz\" -n -f -6 \"test2/Sag_3D_T1_s1101.nii\"\n",
      " Cropping from slice 13 to 238 (of 320)\n",
      "compress: \"/usr/bin/pigz\" -n -f -6 \"test2/Sag_3D_T1_s1101_Crop_1.nii\"\n",
      "Using RWVSlope:RWVIntercept = 2.19341:0\n",
      " Philips Scaling Values RS:RI:SS = 2.19341:0:0.00822696 (see PMC3998685)\n",
      "Convert 10 DICOM as test2/TRA_s1102_real (1024x1024x10x1)\n",
      "dcm2niix conversion... [  =   ]\u001b[0m\u001b[33mcompress: \"/usr/bin/pigz\" -n -f -6 \"test2/TRA_s1102_real.nii\"\n",
      "Using RWVSlope:RWVIntercept = 2.19341:0\n",
      " Philips Scaling Values RS:RI:SS = 2.19341:0:0.00822696 (see PMC3998685)\n",
      "Convert 25 DICOM as test2/TRA_s1103_real (1024x1024x25x1)\n",
      "dcm2niix conversion... [  =   ]\u001b[0m\u001b[33m\u001b[33m\u001b[33mcompress: \"/usr/bin/pigz\" -n -f -6 \"test2/TRA_s1103_real.nii\"\n",
      "Using RWVSlope:RWVIntercept = 5.02808:0\n",
      " Philips Scaling Values RS:RI:SS = 5.02808:0:0.00953466 (see PMC3998685)\n",
      "Convert 290 DICOM as test2/Sag_3D_FLAIR_s1201 (384x384x290x1)\n",
      "dcm2niix conversion... [    = ]\u001b[0m\u001b[33m\u001b[33m\u001b[33m\u001b[33m\u001b[33m\u001b[33m\u001b[33m\u001b[33m\u001b[33m\u001b[33m\u001b[33mcompress: \"/usr/bin/pigz\" -n -f -6 \"test2/Sag_3D_FLAIR_s1201.nii\"\n",
      " Cropping from slice 0 to 294 (of 384)\n",
      "compress: \"/usr/bin/pigz\" -n -f -6 \"test2/Sag_3D_FLAIR_s1201_Crop_1.nii\"\n",
      "Using RWVSlope:RWVIntercept = 1.4127:0\n",
      " Philips Scaling Values RS:RI:SS = 1.4127:0:0.0063896 (see PMC3998685)\n",
      "Convert 88 DICOM as test2/T1W_3D_TFE_s201 (192x192x88x1)\n",
      "dcm2niix conversion... [     =]\u001b[0mcompress: \"/usr/bin/pigz\" -n -f -6 \"test2/T1W_3D_TFE_s201.nii\"\n",
      "Using RWVSlope:RWVIntercept = 1.4127:0\n",
      " Philips Scaling Values RS:RI:SS = 1.4127:0:0.0063896 (see PMC3998685)\n",
      "Convert 25 DICOM as test2/TRA_s202_real (512x512x25x1)\n",
      "dcm2niix conversion... [    = ]\u001b[0mcompress: \"/usr/bin/pigz\" -n -f -6 \"test2/TRA_s202_real.nii\"\n",
      "Dims 384 384 149 1 1\n",
      "Warning: Interslice distance varies in this volume (incompatible with NIfTI format).\n",
      " Distance from first slice:\n",
      "dx=[0 0.749986 1.5 2.24999 3.00001 3.74999 4.50001 5.24999 6.00001 6.75 7.50001 8.25 9.00002 9.75 10.5 11.25 12 12.75 13.5 14.25 15 15.75 16.5 17.25 18 18.75 19.5 20.25 21 21.75 22.5 23.25 24 24.75 25.5 26.25 27 27.75 28.5 29.25 30 30.75 31.5 32.25 33.0001 33.7501 34.5001 35.2501 36.0001 36.7501 37.5001 38.2501 39.0001 39.7501 40.5001 41.2501 42.0001 42.7501 43.5001 44.2501 45.0001 45.7501 46.5001 47.2501 48.0001 48.7501 49.5001 50.2501 51.0001 51.7501 52.5001 53.2501 54.0001 54.7501 55.5001 56.2501 57.0001 57.7501 58.5001 59.2501 60.0001 60.7501 61.5001 62.2501 63.0001 63.7501 64.5001 65.2501 66.0001 66.7501 67.5001 68.2501 69.0001 69.7501 70.5001 71.2501 72.0001 72.7501 73.5001 74.2501 78.0001 81.7501 84.7501 85.5002 86.2502 90.0002 91.5002 93.0002 94.5002 110.25 116.25 118.5 120.75 122.25 123 123.75 124.5 125.25 126 126.75 127.5 128.25 129 129.75 131.25 132 132.75 133.5 134.25 135 135.75 136.5 137.25 138 138.75 139.5 140.25 141 141.75 142.5 143.25 144 144.75 145.5 146.25 147 147.75 148.5 149.25]\n",
      "Warning: Missing images? Expected 149 images, but instance number (0020,0013) ranges from 1 to 200\n",
      "instance=[ 1 2 3 4 5 6 7 8 9 10 11 12 13 14 15 16 17 18 19 20 21 22 23 24 25 26 27 28 29 30 31 32 33 34 35 36 37 38 39 40 41 42 43 44 45 46 47 48 49 50 51 52 53 54 55 56 57 58 59 60 61 62 63 64 65 66 67 68 69 70 71 72 73 74 75 76 77 78 79 80 81 82 83 84 85 86 87 88 89 90 91 92 93 94 95 96 97 98 99 100 105 110 114 115 116 121 123 125 127 148 156 159 162 164 165 166 167 168 169 170 171 172 173 174 176 177 178 179 180 181 182 183 184 185 186 187 188 189 190 191 192 193 194 195 196 197 198 199 200]\n",
      "Using RWVSlope:RWVIntercept = 1.94725:0\n",
      " Philips Scaling Values RS:RI:SS = 1.94725:0:0.0124161 (see PMC3998685)\n",
      "Convert 149 DICOM as test2/T2_3D_s301 (384x384x149x1)\n",
      "dcm2niix conversion... [ =    ]\u001b[0m\u001b[33m\u001b[33m\u001b[33m\u001b[33m\u001b[33m\u001b[33m\u001b[33m\u001b[33m\u001b[33m\u001b[33m\u001b[33m\u001b[33mcompress: \"/usr/bin/pigz\" -n -f -6 \"test2/T2_3D_s301.nii\"\n",
      "compress: \"/usr/bin/pigz\" -n -f -6 \"test2/T2_3D_s301_Eq_1.nii\"\n",
      " Cropping from slice 0 to 146 (of 149)\n",
      "compress: \"/usr/bin/pigz\" -n -f -6 \"test2/T2_3D_s301_Crop_1.nii\"\n",
      "Using RWVSlope:RWVIntercept = 1.94725:0\n",
      " Philips Scaling Values RS:RI:SS = 1.94725:0:0.0124161 (see PMC3998685)\n",
      "Convert 9 DICOM as test2/TRA_s302_real (1024x1024x9x1)\n",
      "dcm2niix conversion... [ =    ]\u001b[0m\u001b[33mcompress: \"/usr/bin/pigz\" -n -f -6 \"test2/TRA_s302_real.nii\"\n",
      "Using RWVSlope:RWVIntercept = 1.94725:0\n",
      " Philips Scaling Values RS:RI:SS = 1.94725:0:0.0124161 (see PMC3998685)\n",
      "Convert 25 DICOM as test2/TRA_s303_real (1024x1024x25x1)\n",
      "dcm2niix conversion... [     =]\u001b[0m\u001b[33m\u001b[33m\u001b[33mcompress: \"/usr/bin/pigz\" -n -f -6 \"test2/TRA_s303_real.nii\"\n",
      "Slice positions repeated, but number of slices (1625) not divisible by number of repeats (33): missing images?\n",
      "Dims 112 112 1625 1 33\n",
      "Warning: Interslice distance varies in this volume (incompatible with NIfTI format).\n",
      " Distance from first slice:\n",
      "dx=[0 0 0 0 0 0 0 0 0 0 0 0 0 0 0 0 0 0 0 0 0 0 0 0 0 0 0 0 0 0 0 0 0 0 2.5 2.5 2.5 2.5 2.5 2.5 2.5 2.5 2.5 2.5 2.5 2.5 2.5 2.5 2.5 2.5 2.5 2.5 2.5 2.5 2.5 2.5 2.5 2.5 2.5 2.5 2.5 2.5 2.5 2.5 2.5 2.5 2.5 2.5 5 5 5 5 5 5 5 5 5 5 5 5 5 5 5 5 5 5 5 5 5 5 5 5 5 5 5 5 5 5 5 5 5 5 7.5 7.5 7.5 7.5 7.5 7.5 7.5 7.5 7.5 7.5 7.5 7.5 7.5 7.5 7.5 7.5 7.5 7.5 7.5 7.5 7.5 7.5 7.5 7.5 7.5 7.5 7.5 7.5 7.5 7.5 7.5 7.5 7.5 7.5 10 10 10 10 10 10 10 10 10 10 10 10 10 10 10 10 10 10 10 10 10 10 10 10 10 10 10 10 10 10 10 10 10 10 12.5 12.5 12.5 12.5 12.5 12.5 12.5 12.5 12.5 12.5 12.5 12.5 12.5 12.5 12.5 12.5 12.5 12.5 12.5 12.5 12.5 12.5 12.5 12.5 12.5 12.5 12.5 12.5 12.5 12.5 12.5 12.5 12.5 12.5 15 15 15 15 15 15 15 15 15 15 15 15 15 15 15 15 15 15 15 15 15 15 15 15 15 15 15 15 15 15 15 15 15 15 17.5 17.5 17.5 17.5 17.5 17.5 17.5 17.5 17.5 17.5 17.5 17.5 17.5 17.5 17.5 17.5 17.5 17.5 17.5 17.5 17.5 17.5 17.5 17.5 17.5 17.5 17.5 17.5 17.5 17.5 17.5 17.5 17.5 17.5 20 20 20 20 20 20 20 20 20 20 20 20 20 20 20 20 20 20 20 20 20 20 20 20 20 20 20 20 20 20 20 20 20 20 22.5 22.5 22.5 22.5 22.5 22.5 22.5 22.5 22.5 22.5 22.5 22.5 22.5 22.5 22.5 22.5 22.5 22.5 22.5 22.5 22.5 22.5 22.5 22.5 22.5 22.5 22.5 22.5 22.5 22.5 22.5 22.5 22.5 22.5 25 25 25 25 25 25 25 25 25 25 25 25 25 25 25 25 25 25 25 25 25 25 25 25 25 25 25 25 25 25 25 25 25 25 27.5 27.5 27.5 27.5 27.5 27.5 27.5 27.5 27.5 27.5 27.5 27.5 27.5 27.5 27.5 27.5 27.5 27.5 27.5 27.5 27.5 27.5 27.5 27.5 27.5 27.5 27.5 27.5 27.5 27.5 27.5 27.5 27.5 27.5 30 30 30 30 30 30 30 30 30 30 30 30 30 30 30 30 30 30 30 30 30 30 30 30 30 30 30 30 30 30 30 30 30 30 32.5 32.5 32.5 32.5 32.5 32.5 32.5 32.5 32.5 32.5 32.5 32.5 32.5 32.5 32.5 32.5 32.5 32.5 32.5 32.5 32.5 32.5 32.5 32.5 32.5 32.5 32.5 32.5 32.5 32.5 32.5 32.5 32.5 32.5 35 35 35 35 35 35 35 35 35 35 35 35 35 35 35 35 35 35 35 35 35 35 35 35 35 35 35 35 35 35 35 35 35 35 37.5 37.5 37.5 37.5 37.5 37.5 37.5 37.5 37.5 37.5 37.5 37.5 37.5 37.5 37.5 37.5 37.5 37.5 37.5 37.5 37.5 37.5 37.5 37.5 37.5 37.5 37.5 37.5 37.5 37.5 37.5 37.5 37.5 37.5 40 40 40 40 40 40 40 40 40 40 40 40 40 40 40 40 40 40 40 40 40 40 40 40 40 40 40 40 40 40 40 40 40 40 42.5 42.5 42.5 42.5 42.5 42.5 42.5 42.5 42.5 42.5 42.5 42.5 42.5 42.5 42.5 42.5 42.5 42.5 42.5 42.5 42.5 42.5 42.5 42.5 42.5 42.5 42.5 42.5 42.5 42.5 42.5 42.5 42.5 42.5 45 45 45 45 45 45 45 45 45 45 45 45 45 45 45 45 45 45 45 45 45 45 45 45 45 45 45 45 45 45 45 45 45 45 47.5 47.5 47.5 47.5 47.5 47.5 47.5 47.5 47.5 47.5 47.5 47.5 47.5 47.5 47.5 47.5 47.5 47.5 47.5 47.5 47.5 47.5 47.5 47.5 47.5 47.5 47.5 47.5 47.5 47.5 47.5 47.5 47.5 47.5 50 50 50 50 50 50 50 50 50 50 50 50 50 50 50 50 50 50 50 50 50 50 50 50 50 50 50 50 50 50 50 50 50 50 52.5 52.5 52.5 52.5 52.5 52.5 52.5 52.5 52.5 52.5 52.5 52.5 52.5 52.5 52.5 52.5 52.5 52.5 52.5 52.5 52.5 52.5 52.5 52.5 52.5 52.5 52.5 52.5 52.5 52.5 52.5 52.5 52.5 52.5 55 55 55 55 55 55 55 55 55 55 55 55 55 55 55 55 55 55 55 55 55 55 55 55 55 55 55 55 55 55 55 55 55 55 57.5 57.5 57.5 57.5 57.5 57.5 57.5 57.5 57.5 57.5 57.5 57.5 57.5 57.5 57.5 57.5 57.5 57.5 57.5 57.5 57.5 57.5 57.5 57.5 57.5 57.5 57.5 57.5 57.5 57.5 57.5 57.5 57.5 57.5 60 60 60 60 60 60 60 60 60 60 60 60 60 60 60 60 60 60 60 60 60 60 60 60 60 60 60 60 60 60 60 60 60 60 62.5 62.5 62.5 62.5 62.5 62.5 62.5 62.5 62.5 62.5 62.5 62.5 62.5 62.5 62.5 62.5 62.5 62.5 62.5 62.5 62.5 62.5 62.5 62.5 62.5 62.5 62.5 62.5 62.5 62.5 62.5 62.5 62.5 65 65 65 65 65 65 65 65 65 65 65 65 65 65 65 65 65 65 65 65 65 65 65 65 65 65 65 65 65 65 65 65 65 65 67.5 67.5 67.5 67.5 67.5 67.5 67.5 67.5 67.5 67.5 67.5 67.5 67.5 67.5 67.5 67.5 67.5 67.5 67.5 67.5 67.5 67.5 67.5 67.5 67.5 67.5 67.5 67.5 67.5 67.5 67.5 67.5 67.5 67.5 70 70 70 70 70 70 70 70 70 70 70 70 70 70 70 70 70 70 70 70 70 70 70 70 70 70 70 70 70 70 70 70 70 70 72.5 72.5 72.5 72.5 72.5 72.5 72.5 72.5 72.5 72.5 72.5 72.5 72.5 72.5 72.5 72.5 72.5 72.5 72.5 72.5 72.5 72.5 72.5 72.5 72.5 72.5 72.5 72.5 72.5 72.5 72.5 72.5 75 75 75 75 75 75 75 75 75 75 75 75 75 75 75 75 75 75 75 75 75 75 75 75 75 75 75 75 75 75 75 75 77.5 77.5 77.5 77.5 77.5 77.5 77.5 77.5 77.5 77.5 77.5 77.5 77.5 77.5 77.5 77.5 77.5 77.5 77.5 77.5 77.5 77.5 77.5 77.5 77.5 77.5 77.5 77.5 77.5 77.5 77.5 77.5 80 80 80 80 80 80 80 80 80 80 80 80 80 80 80 80 80 80 80 80 80 80 80 80 80 80 80 80 80 80 80 80 80 80 82.5 82.5 82.5 82.5 82.5 82.5 82.5 82.5 82.5 82.5 82.5 82.5 82.5 82.5 82.5 82.5 82.5 82.5 82.5 82.5 82.5 82.5 82.5 82.5 82.5 82.5 82.5 82.5 82.5 82.5 82.5 82.5 82.5 82.5 85 85 85 85 85 85 85 85 85 85 85 85 85 85 85 85 85 85 85 85 85 85 85 85 85 85 85 85 85 85 85 85 85 85 87.5 87.5 87.5 87.5 87.5 87.5 87.5 87.5 87.5 87.5 87.5 87.5 87.5 87.5 87.5 87.5 87.5 87.5 87.5 87.5 87.5 87.5 87.5 87.5 87.5 87.5 87.5 87.5 87.5 87.5 87.5 87.5 87.5 87.5 90 90 90 90 90 90 90 90 90 90 90 90 90 90 90 90 90 90 90 90 90 90 90 90 90 90 90 90 90 90 90 90 90 90 92.5 92.5 92.5 92.5 92.5 92.5 92.5 92.5 92.5 92.5 92.5 92.5 92.5 92.5 92.5 92.5 92.5 92.5 92.5 92.5 92.5 92.5 92.5 92.5 92.5 92.5 92.5 92.5 92.5 92.5 92.5 92.5 92.5 92.5 95 95 95 95 95 95 95 95 95 95 95 95 95 95 95 95 95 95 95 95 95 95 95 95 95 95 95 95 95 95 95 95 95 95 97.5 97.5 97.5 97.5 97.5 97.5 97.5 97.5 97.5 97.5 97.5 97.5 97.5 97.5 97.5 97.5 97.5 97.5 97.5 97.5 97.5 97.5 97.5 97.5 97.5 97.5 97.5 97.5 97.5 97.5 97.5 97.5 97.5 97.5 100 100 100 100 100 100 100 100 100 100 100 100 100 100 100 100 100 100 100 100 100 100 100 100 100 100 100 100 100 100 100 100 100 100 102.5 102.5 102.5 102.5 102.5 102.5 102.5 102.5 102.5 102.5 102.5 102.5 102.5 102.5 102.5 102.5 102.5 102.5 102.5 102.5 102.5 102.5 102.5 102.5 102.5 102.5 102.5 102.5 102.5 102.5 102.5 102.5 102.5 102.5 105 105 105 105 105 105 105 105 105 105 105 105 105 105 105 105 105 105 105 105 105 105 105 105 105 105 105 105 105 105 105 105 105 105 107.5 107.5 107.5 107.5 107.5 107.5 107.5 107.5 107.5 107.5 107.5 107.5 107.5 107.5 107.5 107.5 107.5 107.5 107.5 107.5 107.5 107.5 107.5 107.5 107.5 107.5 107.5 107.5 107.5 107.5 107.5 107.5 107.5 107.5 110 110 110 110 110 110 110 110 110 110 110 110 110 110 110 110 110 110 110 110 110 110 110 110 110 110 110 110 110 110 110 110 110 110 112.5 112.5 112.5 112.5 112.5 112.5 112.5 112.5 112.5 112.5 112.5 112.5 112.5 112.5 112.5 112.5 112.5 112.5 112.5 112.5 112.5 112.5 112.5 112.5 112.5 112.5 112.5 112.5 112.5 112.5 112.5 112.5 112.5 112.5 115 115 115 115 115 115 115 115 115 115 115 115 115 115 115 115 115 115 115 115 115 115 115 115 115 115 115 115 115 115 115 115 115 115 117.5 117.5 117.5 117.5 117.5 117.5 117.5 117.5 117.5 117.5 117.5 117.5 117.5 117.5 117.5 117.5 117.5 117.5 117.5 117.5 117.5 117.5 117.5 117.5 117.5 117.5 117.5 117.5 117.5 117.5 117.5 117.5 117.5 117.5]\n",
      "Warning: Missing images? Expected 1625 images, but instance number (0020,0013) ranges from 33 to 3168\n"
     ]
    },
    {
     "name": "stdout",
     "output_type": "stream",
     "text": [
      "dcm2niix conversion... [    = ]\u001b[0m 2283 2284 2285 2286 2287 2288 2289 2290 2291 2292 2293 2294 2295 2296 2297 2298 2299 2300 2301 2302 2303 2304 2305 2306 2307 2308 2309 2310 2343 2344 2345 2346 2347 2348 2349 2350 2351 2352 2353 2354 2355 2356 2357 2358 2359 2360 2361 2362 2363 2364 2365 2366 2367 2368 2369 2370 2371 2372 2373 2374 2375 2376 2409 2410 2411 2412 2413 2414 2415 2416 2417 2418 2419 2420 2421 2422 2423 2424 2425 2426 2427 2428 2429 2430 2431 2432 2433 2434 2435 2436 2437 2438 2439 2440 2441 2442 2475 2476 2477 2478 2479 2480 2481 2482 2483 2484 2485 2486 2487 2488 2489 2490 2491 2492 2493 2494 2495 2496 2497 2498 2499 2500 2501 2502 2503 2504 2505 2506 2507 2508 2541 2542 2543 2544 2545 2546 2547 2548 2549 2550 2551 2552 2553 2554 2555 2556 2557 2558 2559 2560 2561 2562 2563 2564 2565 2566 2567 2568 2569 2570 2571 2572 2573 2574 2607 2608 2609 2610 2611 2612 2613 2614 2615 2616 2617 2618 2619 2620 2621 2622 2623 2624 2625 2626 2627 2628 2629 2630 2631 2632 2633 2634 2635 2636 2637 2638 2639 2640 2673 2674 2675 2676 2677 2678 2679 2680 2681 2682 2683 2684 2685 2686 2687 2688 2689 2690 2691 2692 2693 2694 2695 2696 2697 2698 2699 2700 2701 2702 2703 2704 2705 2706 2739 2740 2741 2742 2743 2744 2745 2746 2747 2748 2749 2750 2751 2752 2753 2754 2755 2756 2757 2758 2759 2760 2761 2762 2763 2764 2765 2766 2767 2768 2769 2770 2771 2772 2805 2806 2807 2808 2809 2810 2811 2812 2813 2814 2815 2816 2817 2818 2819 2820 2821 2822 2823 2824 2825 2826 2827 2828 2829 2830 2831 2832 2833 2834 2835 2836 2837 2838 2871 2872 2873 2874 2875 2876 2877 2878 2879 2880 2881 2882 2883 2884 2885 2886 2887 2888 2889 2890 2891 2892 2893 2894 2895 2896 2897 2898 2899 2900 2901 2902 2903 2904 2937 2938 2939 2940 2941 2942 2943 2944 2945 2946 2947 2948 2949 2950 2951 2952 2953 2954 2955 2956 2957 2958 2959 2960 2961 2962 2963 2964 2965 2966 2967 2968 2969 2970 3003 3004 3005 3006 3007 3008 3009 3010 3011 3012 3013 3014 3015 3016 3017 3018 3019 3020 3021 3022 3023 3024 3025 3026 3027 3028 3029 3030 3031 3032 3033 3034 3035 3036 3069 3070 3071 3072 3073 3074 3075 3076 3077 3078 3079 3080 3081 3082 3083 3084 3085 3086 3087 3088 3089 3090 3091 3092 3093 3094 3095 3096 3097 3098 3099 3100 3101 3102 3135 3136 3137 3138 3139 3140 3141 3142 3143 3144 3145 3146 3147 3148 3149 3150 3151 3152 3153 3154 3155 3156 3157 3158 3159 3160 3161 3162 3163 3164 3165 3166 3167 3168]1161 1162 1163 1164 1165 1166 1167 1168 1169 1170 1171 1172 1173 1174 1175 1176 1177 1178 1179 1180 1181 1182 1183 1184 1185 1186 1187 1188 1221 1222 1223 1224 1225 1226 1227 1228 1229 1230 1231 1232 1233 1234 1235 1236 1237 1238 1239 1240 1241 1242 1243 1244 1245 1246 1247 1248 1249 1250 1251 1252 1253 1254 1287 1288 1289 1290 1291 1292 1293 1294 1295 1296 1297 1298 1299 1300 1301 1302 1303 1304 1305 1306 1307 1308 1309 1310 1311 1312 1313 1314 1315 1316 1317 1318 1319 1320 1353 1354 1355 1356 1357 1358 1359 1360 1361 1362 1363 1364 1365 1366 1367 1368 1369 1370 1371 1372 1373 1374 1375 1376 1377 1378 1379 1380 1381 1382 1383 1384 1385 1386 1419 1420 1421 1422 1423 1424 1425 1426 1427 1428 1429 1430 1431 1432 1433 1434 1435 1436 1437 1438 1439 1440 1441 1442 1443 1444 1445 1446 1447 1448 1449 1450 1451 1452 1485 1486 1487 1488 1489 1490 1491 1492 1493 1494 1495 1496 1497 1498 1499 1500 1501 1502 1503 1504 1505 1506 1507 1508 1509 1510 1511 1512 1513 1514 1515 1516 1517 1518 1551 1552 1553 1554 1555 1556 1557 1558 1559 1560 1561 1562 1563 1564 1565 1566 1567 1568 1569 1570 1571 1572 1573 1574 1575 1576 1577 1578 1579 1580 1581 1582 1583 1584 1617 1618 1619 1620 1621 1622 1623 1624 1625 1626 1627 1628 1629 1630 1631 1632 1633 1634 1635 1636 1637 1638 1639 1640 1641 1642 1643 1644 1645 1646 1647 1648 1649 1650 1683 1684 1685 1686 1688 1689 1690 1691 1692 1693 1694 1695 1696 1697 1698 1699 1700 1701 1702 1703 1704 1705 1706 1707 1708 1709 1710 1711 1712 1713 1714 1715 1716 1749 1750 1751 1752 1753 1754 1755 1756 1757 1758 1759 1760 1761 1762 1763 1764 1765 1766 1767 1768 1769 1770 1771 1772 1773 1774 1775 1776 1777 1778 1779 1780 1781 1782 1815 1816 1817 1818 1819 1820 1821 1822 1823 1824 1825 1826 1827 1828 1829 1830 1831 1832 1833 1834 1835 1836 1837 1838 1839 1840 1841 1842 1843 1844 1845 1846 1847 1848 1881 1882 1883 1884 1885 1886 1887 1888 1889 1890 1891 1892 1893 1894 1895 1896 1897 1898 1899 1900 1901 1902 1903 1904 1905 1906 1907 1908 1909 1910 1911 1912 1913 1914 1947 1948 1949 1950 1951 1952 1953 1955 1956 1957 1958 1959 1960 1961 1962 1963 1964 1965 1966 1967 1968 1969 1970 1971 1972 1973 1975 1976 1977 1978 1979 1980 2013 2014 2015 2016 2017 2018 2020 2021 2022 2023 2024 2025 2026 2028 2029 2030 2031 2032 2033 2034 2035 2036 2037 2038 2039 2040 2041 2042 2043 2044 2045 2046 2079 2080 2081 2083 2084 2085 2086 2087 2088 2089 2090 2091 2093 2094 2095 2096 2097 2098 2099 2100 2101 2102 2103 2104 2105 2106 2107 2108 2109 2110 2111 2112 2145 2146 2147 2148 2149 2150 2151 2152 2153 2154 2155 2156 2157 2158 2159 2160 2161 2162 2163 2164 2165 2166 2167 2168 2169 2170 2171 2172 2173 2174 2175 2176 2177 2178 2211 2212 2213 2214 2215 2216 2217 2218 2219 2220 2221 2222 2223 2224 2225 2226 2227 2228 2229 2230 2231 2232 2233 2234 2235 2236 2237 2238 2239 2240 2241 2242 2243 2244 2277 2278 2279 2280 2281 2282\u001b[33m\n",
      "swizzling 3rd and 4th dimensions (XYTZ -> XYZT), assuming interslice distance is 0.000000\n",
      "Warning: No bvec/bval files created: only single value after ADC excluded\n",
      "Using RWVSlope:RWVIntercept = 1.35897:0\n",
      " Philips Scaling Values RS:RI:SS = 1.35897:0:0.037115 (see PMC3998685)\n",
      "Convert 1625 DICOM as test2/DTI_medium_iso_s401 (112x112x1625x1)\n",
      "dcm2niix conversion... [  =   ]\u001b[0m\u001b[33m\u001b[33m\u001b[33m\u001b[33m\u001b[33mcompress: \"/usr/bin/pigz\" -n -f -6 \"test2/DTI_medium_iso_s401.nii\"\n",
      "Unable to equalize slice distances: slice number not consistent with slice position.\n",
      "swizzling 3rd and 4th dimensions (XYTZ -> XYZT), assuming interslice distance is 2.500005\n",
      "Warning: No bvec/bval files created: only single value after ADC excluded\n",
      "Using RWVSlope:RWVIntercept = 1.34286:0\n",
      " Philips Scaling Values RS:RI:SS = 1.34286:0:0.0327802 (see PMC3998685)\n",
      "Convert 816 DICOM as test2/DTI_medium_iso_s501 (112x112x48x17)\n",
      "dcm2niix conversion... [     =]\u001b[0m\u001b[33m\u001b[33mcompress: \"/usr/bin/pigz\" -n -f -6 \"test2/DTI_medium_iso_s501.nii\"\n",
      "Dims 384 384 233 1 1\n",
      "Warning: Interslice distance varies in this volume (incompatible with NIfTI format).\n",
      " Distance from first slice:\n",
      "dx=[0 0.549999 1.1 1.65 2.2 2.74999 3.29999 3.84999 4.39999 4.94999 5.49999 6.04999 6.59999 7.14998 7.69998 8.24998 8.79998 9.34998 9.89998 10.45 11 11.55 12.1 12.65 13.2 13.75 14.3 14.85 15.4 15.95 16.5 17.05 17.6 18.15 18.7 19.25 19.8 20.35 20.9 21.4499 21.9999 22.5499 23.0999 23.6499 24.1999 24.7499 25.2999 25.8499 26.3999 26.9499 27.4999 28.0499 28.5999 29.1499 29.6999 30.2499 30.7999 31.3499 31.8999 32.4499 32.9999 33.5499 34.0999 34.6499 35.1999 35.7499 36.2999 36.8499 37.3999 37.9499 38.4999 39.0499 39.5999 40.1499 40.6999 41.2499 41.7999 42.3499 42.8999 43.4499 43.9999 44.5499 45.0999 45.6499 46.1999 46.7499 47.2999 47.8499 48.3999 48.9499 49.4999 50.0499 50.5999 51.1499 51.6999 52.2499 52.7999 53.3499 53.8999 54.4499 54.9999 55.5499 56.0999 56.6499 57.1999 57.7499 58.2999 58.8499 59.3999 59.9499 60.4999 61.0499 61.5999 62.1499 62.6999 63.2499 63.7999 64.3498 64.8998 65.4498 65.9998 66.5498 67.0998 67.6498 68.1998 68.7498 69.2998 69.8498 70.3998 70.9498 71.4998 72.0498 72.5998 73.1498 73.6998 74.2498 74.7998 75.3498 75.8998 76.4498 76.9998 77.5498 78.0998 78.6498 79.1998 79.7498 81.9498 83.5998 85.7998 86.3498 87.4498 89.6498 90.1998 95.1498 101.2 102.3 102.85 103.95 105.6 106.15 107.25 107.8 108.35 111.1 111.65 112.2 112.75 113.3 114.4 115.5 117.7 120.45 122.1 124.3 124.85 126.5 127.6 128.15 128.7 129.25 129.8 130.35 130.9 131.45 132 132.55 133.1 134.2 134.75 135.3 135.85 136.4 136.95 137.5 138.05 138.6 139.15 139.7 140.25 140.8 141.35 141.9 142.45 143 143.55 144.1 144.65 145.2 145.75 146.3 146.85 147.4 147.95 148.5 149.05 149.6 150.15 150.7 151.25 151.8 152.35 152.9 153.45 154 154.55 155.1 155.65 156.2 156.75 157.3 157.85 158.4 158.95]\n",
      "Warning: Missing images? Expected 233 images, but instance number (0020,0013) ranges from 1 to 290\n",
      "instance=[ 1 2 3 4 5 6 7 8 9 10 11 12 13 14 15 16 17 18 19 20 21 22 23 24 25 26 27 28 29 30 31 32 33 34 35 36 37 38 39 40 41 42 43 44 45 46 47 48 49 50 51 52 53 54 55 56 57 58 59 60 61 62 63 64 65 66 67 68 69 70 71 72 73 74 75 76 77 78 79 80 81 82 83 84 85 86 87 88 89 90 91 92 93 94 95 96 97 98 99 100 101 102 103 104 105 106 107 108 109 110 111 112 113 114 115 116 117 118 119 120 121 122 123 124 125 126 127 128 129 130 131 132 133 134 135 136 137 138 139 140 141 142 143 144 145 146 150 153 157 158 160 164 165 174 185 187 188 190 193 194 196 197 198 203 204 205 206 207 209 211 215 220 223 227 228 231 233 234 235 236 237 238 239 240 241 242 243 245 246 247 248 249 250 251 252 253 254 255 256 257 258 259 260 261 262 263 264 265 266 267 268 269 270 271 272 273 274 275 276 277 278 279 280 281 282 283 284 285 286 287 288 289 290]\n",
      "Using RWVSlope:RWVIntercept = 5.19072:0\n",
      " Philips Scaling Values RS:RI:SS = 5.19072:0:0.00953466 (see PMC3998685)\n",
      "Convert 233 DICOM as test2/Sag_3D_FLAIR_s601 (384x384x233x1)\n"
     ]
    },
    {
     "name": "stdout",
     "output_type": "stream",
     "text": [
      "dcm2niix conversion... [   =  ]\u001b[0m\u001b[33m\u001b[33m\u001b[33m\u001b[33m\u001b[33m\u001b[33m\u001b[33mcompress: \"/usr/bin/pigz\" -n -f -6 \"test2/Sag_3D_FLAIR_s601.nii\"\n",
      " Cropping from slice 0 to 299 (of 384)\n",
      "compress: \"/usr/bin/pigz\" -n -f -6 \"test2/Sag_3D_FLAIR_s601_Crop_1.nii\"\n",
      "Using RWVSlope:RWVIntercept = 5.19072:0\n",
      " Philips Scaling Values RS:RI:SS = 5.19072:0:0.00953466 (see PMC3998685)\n",
      "Convert 9 DICOM as test2/TRA_s602_real (1024x1024x9x1)\n",
      "dcm2niix conversion... [     =]\u001b[0m\u001b[33mcompress: \"/usr/bin/pigz\" -n -f -6 \"test2/TRA_s602_real.nii\"\n",
      "Using RWVSlope:RWVIntercept = 5.19072:0\n",
      " Philips Scaling Values RS:RI:SS = 5.19072:0:0.00953466 (see PMC3998685)\n",
      "Convert 2 DICOM as test2/TRA_s603_real (1024x1024x2x1)\n",
      "compress: \"/usr/bin/pigz\" -n -f -6 \"test2/TRA_s603_real.nii\"\n",
      "slices not stacked: some are phase/real/imaginary maps, others are not. Use 'merge 2D slices' option to force stacking\n",
      "Dims 704 704 47 1 1\n",
      "Warning: Interslice distance varies in this volume (incompatible with NIfTI format).\n",
      " Distance from first slice:\n",
      "dx=[0 5.00001 6.00001 7.00001 8.00001 9.00002 10 11 12 13 14 15 16 17 18 19 20 21 22 23 24 25 26 27 29 31.0001 32.0001 39.0001 44.0001 45.0001 46.0001 47.0001 48.0001 49.0001 50.0001 51.0001 52.0001 53.0001 54.0001 64.0001 78.0001 93.0002 95.0002 101 103 111 113]\n",
      "Warning: Missing images? Expected 47 images, but instance number (0020,0013) ranges from 21 to 473\n",
      "instance=[ 21 41 45 49 53 57 61 65 69 73 77 81 85 89 93 97 101 105 109 113 117 121 125 129 137 145 149 177 197 201 205 209 213 217 221 225 229 233 237 277 333 393 401 425 433 465 473]\n",
      "Using RWVSlope:RWVIntercept = 7.82613:0\n",
      " Philips Scaling Values RS:RI:SS = 7.82613:0:0.0143934 (see PMC3998685)\n",
      "Convert 47 DICOM as test2/Ax_SWI_s701 (704x704x47x1)\n",
      "dcm2niix conversion... [    = ]\u001b[0m\u001b[33m\u001b[33m\u001b[33m\u001b[33m\u001b[33m\u001b[33m\u001b[33m\u001b[33m\u001b[33m\u001b[33mcompress: \"/usr/bin/pigz\" -n -f -6 \"test2/Ax_SWI_s701.nii\"\n",
      "compress: \"/usr/bin/pigz\" -n -f -6 \"test2/Ax_SWI_s701_Eq_1.nii\"\n",
      "Dims 704 704 52 1 1\n",
      "Warning: Interslice distance varies in this volume (incompatible with NIfTI format).\n",
      " Distance from first slice:\n",
      "dx=[0 1 2 3 4.00001 5.00001 6.00001 7.00001 8.00001 9.00002 10 11 12 13 14 15 16 17 18 19 20 21 22 24 25 27 34.0001 35.0001 37.0001 39.0001 40.0001 41.0001 42.0001 43.0001 44.0001 45.0001 46.0001 47.0001 48.0001 49.0001 50.0001 59.0001 71.0001 72.0001 79.0001 83.0001 91.0001 93.0002 97.0002 103 104 107]\n",
      "Warning: Missing images? Expected 52 images, but instance number (0020,0013) ranges from 517 to 945\n",
      "instance=[ 517 521 525 529 533 537 541 545 549 553 557 561 565 569 573 577 581 585 589 593 597 601 605 613 617 625 653 657 665 673 677 681 685 689 693 697 701 705 709 713 717 753 801 805 833 849 881 889 905 929 933 945]\n",
      "Using RWVSlope:RWVIntercept = 1.53455:-3142\n",
      " Philips Scaling Values RS:RI:SS = 1.53455:-3142:651.74 (see PMC3998685)\n",
      "Convert 52 DICOM as test2/Ax_SWI_s701_ph (704x704x52x1)\n",
      "dcm2niix conversion... [   =  ]\u001b[0m\u001b[33m\u001b[33m\u001b[33m\u001b[33m\u001b[33m\u001b[33m\u001b[33m\u001b[33m\u001b[33m\u001b[33mcompress: \"/usr/bin/pigz\" -n -f -6 \"test2/Ax_SWI_s701_ph.nii\"\n",
      "compress: \"/usr/bin/pigz\" -n -f -6 \"test2/Ax_SWI_s701_ph_Eq_1.nii\"\n",
      "Using RWVSlope:RWVIntercept = 7.82613:0\n",
      " Philips Scaling Values RS:RI:SS = 7.82613:0:0.0143934 (see PMC3998685)\n",
      "Convert 25 DICOM as test2/Ax_SWI_s702_real (704x704x25x1)\n",
      "dcm2niix conversion... [ =    ]\u001b[0m\u001b[33mcompress: \"/usr/bin/pigz\" -n -f -6 \"test2/Ax_SWI_s702_real.nii\"\n",
      "Using RWVSlope:RWVIntercept = 1.53455:-3142\n",
      " Philips Scaling Values RS:RI:SS = 1.53455:-3142:651.74 (see PMC3998685)\n",
      "Convert 27 DICOM as test2/Ax_SWI_phase_s703_real_ph (704x704x27x1)\n",
      "dcm2niix conversion... [ =    ]\u001b[0m\u001b[33mcompress: \"/usr/bin/pigz\" -n -f -6 \"test2/Ax_SWI_phase_s703_real_ph.nii\"\n",
      "swizzling 3rd and 4th dimensions (XYTZ -> XYZT), assuming interslice distance is 4.999993\n",
      "Warning: No bvec/bval files created: only single value after ADC excluded\n",
      "Using RWVSlope:RWVIntercept = 3.94139:0\n",
      " Philips Scaling Values RS:RI:SS = 3.94139:0:0.0481855 (see PMC3998685)\n",
      "Convert 125 DICOM as test2/Ax_DWI_s801 (160x160x25x5)\n",
      "compress: \"/usr/bin/pigz\" -n -f -6 \"test2/Ax_DWI_s801.nii\"\n",
      "Warning: This diffusion series does not have a B0 (reference) volume\n",
      "Using RWVSlope:RWVIntercept = 3.94139:0\n",
      " Philips Scaling Values RS:RI:SS = 3.94139:0:0.0481855 (see PMC3998685)\n",
      "Convert 25 DICOM as test2/isoDWI_s802_real (160x160x25x1)\n",
      "compress: \"/usr/bin/pigz\" -n -f -6 \"test2/isoDWI_s802_real.nii\"\n",
      "Philips Scaling Values RS:RI:SS = 0.00102212:0:0.0481855 (see PMC3998685)\n",
      "Convert 25 DICOM as test2/dDWI_s803_real (160x160x25x1)\n",
      "dcm2niix conversion... [  =   ]\u001b[0mcompress: \"/usr/bin/pigz\" -n -f -6 \"test2/dDWI_s803_real.nii\"\n",
      "Using RWVSlope:RWVIntercept = 5.23419:0\n",
      " Philips Scaling Values RS:RI:SS = 5.23419:0:0.00914187 (see PMC3998685)\n",
      "Convert 114 DICOM as test2/s3DI_MC_s901 (512x512x114x1)\n",
      "dcm2niix conversion... [    = ]\u001b[0m\u001b[33m\u001b[33m\u001b[33m\u001b[33m\u001b[33m\u001b[33m\u001b[33m\u001b[33m\u001b[33m\u001b[33m\u001b[33mcompress: \"/usr/bin/pigz\" -n -f -6 \"test2/s3DI_MC_s901.nii\"\n",
      "Using RWVSlope:RWVIntercept = 2.85201:0\n",
      " Philips Scaling Values RS:RI:SS = 2.85201:0:0.00914187 (see PMC3998685)\n",
      "Convert 1 DICOM as test2/MIP_-_s3DI_MC_s902_i00001 (512x512x1x1)\n",
      "Warning: Check that 2D images are not mirrored.\n",
      "compress: \"/usr/bin/pigz\" -n -f -6 \"test2/MIP_-_s3DI_MC_s902_i00001.nii\"\n",
      "Using RWVSlope:RWVIntercept = 2.85201:0\n",
      " Philips Scaling Values RS:RI:SS = 2.85201:0:0.00914187 (see PMC3998685)\n",
      "Convert 1 DICOM as test2/MIP_-_s3DI_MC_s902_i00002 (512x512x1x1)\n",
      "Warning: Check that 2D images are not mirrored.\n",
      "compress: \"/usr/bin/pigz\" -n -f -6 \"test2/MIP_-_s3DI_MC_s902_i00002.nii\"\n",
      "Using RWVSlope:RWVIntercept = 2.85201:0\n",
      " Philips Scaling Values RS:RI:SS = 2.85201:0:0.00914187 (see PMC3998685)\n",
      "Convert 1 DICOM as test2/MIP_-_s3DI_MC_s902_i00003 (512x512x1x1)\n",
      "Warning: Check that 2D images are not mirrored.\n",
      "compress: \"/usr/bin/pigz\" -n -f -6 \"test2/MIP_-_s3DI_MC_s902_i00003.nii\"\n",
      "Using RWVSlope:RWVIntercept = 5.23419:0\n",
      " Philips Scaling Values RS:RI:SS = 5.23419:0:0.00914187 (see PMC3998685)\n",
      "Convert 1 DICOM as test2/ANGIO_s903_i00001_real (512x512x1x1)\n",
      "Warning: Check that 2D images are not mirrored.\n",
      "compress: \"/usr/bin/pigz\" -n -f -6 \"test2/ANGIO_s903_i00001_real.nii\"\n",
      "Using RWVSlope:RWVIntercept = 5.23419:0\n",
      " Philips Scaling Values RS:RI:SS = 5.23419:0:0.00914187 (see PMC3998685)\n",
      "Convert 1 DICOM as test2/ANGIO_s903_i00010_real (512x512x1x1)\n",
      "Warning: Check that 2D images are not mirrored.\n",
      "compress: \"/usr/bin/pigz\" -n -f -6 \"test2/ANGIO_s903_i00010_real.nii\"\n",
      "Using RWVSlope:RWVIntercept = 5.23419:0\n",
      " Philips Scaling Values RS:RI:SS = 5.23419:0:0.00914187 (see PMC3998685)\n",
      "Convert 1 DICOM as test2/ANGIO_s903_i00002_real (512x512x1x1)\n",
      "Warning: Check that 2D images are not mirrored.\n",
      "compress: \"/usr/bin/pigz\" -n -f -6 \"test2/ANGIO_s903_i00002_real.nii\"\n",
      "Using RWVSlope:RWVIntercept = 5.23419:0\n",
      " Philips Scaling Values RS:RI:SS = 5.23419:0:0.00914187 (see PMC3998685)\n",
      "Convert 1 DICOM as test2/ANGIO_s903_i00003_real (512x512x1x1)\n",
      "Warning: Check that 2D images are not mirrored.\n",
      "compress: \"/usr/bin/pigz\" -n -f -6 \"test2/ANGIO_s903_i00003_real.nii\"\n",
      "Using RWVSlope:RWVIntercept = 5.23419:0\n",
      " Philips Scaling Values RS:RI:SS = 5.23419:0:0.00914187 (see PMC3998685)\n",
      "Convert 1 DICOM as test2/ANGIO_s903_i00004_real (512x512x1x1)\n",
      "Warning: Check that 2D images are not mirrored.\n",
      "compress: \"/usr/bin/pigz\" -n -f -6 \"test2/ANGIO_s903_i00004_real.nii\"\n",
      "Using RWVSlope:RWVIntercept = 5.23419:0\n",
      " Philips Scaling Values RS:RI:SS = 5.23419:0:0.00914187 (see PMC3998685)\n",
      "Convert 1 DICOM as test2/ANGIO_s903_i00005_real (512x512x1x1)\n",
      "Warning: Check that 2D images are not mirrored.\n",
      "compress: \"/usr/bin/pigz\" -n -f -6 \"test2/ANGIO_s903_i00005_real.nii\"\n",
      "Using RWVSlope:RWVIntercept = 5.23419:0\n",
      " Philips Scaling Values RS:RI:SS = 5.23419:0:0.00914187 (see PMC3998685)\n",
      "Convert 1 DICOM as test2/ANGIO_s903_i00006_real (512x512x1x1)\n",
      "Warning: Check that 2D images are not mirrored.\n",
      "compress: \"/usr/bin/pigz\" -n -f -6 \"test2/ANGIO_s903_i00006_real.nii\"\n",
      "Using RWVSlope:RWVIntercept = 5.23419:0\n",
      " Philips Scaling Values RS:RI:SS = 5.23419:0:0.00914187 (see PMC3998685)\n",
      "Convert 1 DICOM as test2/ANGIO_s903_i00007_real (512x512x1x1)\n",
      "Warning: Check that 2D images are not mirrored.\n",
      "compress: \"/usr/bin/pigz\" -n -f -6 \"test2/ANGIO_s903_i00007_real.nii\"\n",
      "Using RWVSlope:RWVIntercept = 5.23419:0\n",
      " Philips Scaling Values RS:RI:SS = 5.23419:0:0.00914187 (see PMC3998685)\n",
      "Convert 1 DICOM as test2/ANGIO_s903_i00008_real (512x512x1x1)\n",
      "Warning: Check that 2D images are not mirrored.\n",
      "compress: \"/usr/bin/pigz\" -n -f -6 \"test2/ANGIO_s903_i00008_real.nii\"\n",
      "Using RWVSlope:RWVIntercept = 5.23419:0\n",
      " Philips Scaling Values RS:RI:SS = 5.23419:0:0.00914187 (see PMC3998685)\n",
      "Convert 1 DICOM as test2/ANGIO_s903_i00009_real (512x512x1x1)\n",
      "Warning: Check that 2D images are not mirrored.\n",
      "compress: \"/usr/bin/pigz\" -n -f -6 \"test2/ANGIO_s903_i00009_real.nii\"\n",
      "Using RWVSlope:RWVIntercept = 5.23419:0\n",
      " Philips Scaling Values RS:RI:SS = 5.23419:0:0.00914187 (see PMC3998685)\n",
      "Convert 1 DICOM as test2/ANGIO_s904_i00001_real (512x512x1x1)\n"
     ]
    },
    {
     "name": "stdout",
     "output_type": "stream",
     "text": [
      "dcm2niix conversion... [    = ]\u001b[0mnot mirrored.\n",
      "compress: \"/usr/bin/pigz\" -n -f -6 \"test2/ANGIO_s904_i00001_real.nii\"\n",
      "Using RWVSlope:RWVIntercept = 5.23419:0\n",
      " Philips Scaling Values RS:RI:SS = 5.23419:0:0.00914187 (see PMC3998685)\n",
      "Convert 1 DICOM as test2/ANGIO_s904_i00010_real (512x512x1x1)\n",
      "Warning: Check that 2D images are not mirrored.\n",
      "compress: \"/usr/bin/pigz\" -n -f -6 \"test2/ANGIO_s904_i00010_real.nii\"\n",
      "Using RWVSlope:RWVIntercept = 5.23419:0\n",
      " Philips Scaling Values RS:RI:SS = 5.23419:0:0.00914187 (see PMC3998685)\n",
      "Convert 1 DICOM as test2/ANGIO_s904_i00002_real (512x512x1x1)\n",
      "Warning: Check that 2D images are not mirrored.\n",
      "compress: \"/usr/bin/pigz\" -n -f -6 \"test2/ANGIO_s904_i00002_real.nii\"\n",
      "Using RWVSlope:RWVIntercept = 5.23419:0\n",
      " Philips Scaling Values RS:RI:SS = 5.23419:0:0.00914187 (see PMC3998685)\n",
      "Convert 1 DICOM as test2/ANGIO_s904_i00003_real (512x512x1x1)\n",
      "Warning: Check that 2D images are not mirrored.\n",
      "compress: \"/usr/bin/pigz\" -n -f -6 \"test2/ANGIO_s904_i00003_real.nii\"\n",
      "Using RWVSlope:RWVIntercept = 5.23419:0\n",
      " Philips Scaling Values RS:RI:SS = 5.23419:0:0.00914187 (see PMC3998685)\n",
      "Convert 1 DICOM as test2/ANGIO_s904_i00004_real (512x512x1x1)\n",
      "Warning: Check that 2D images are not mirrored.\n",
      "compress: \"/usr/bin/pigz\" -n -f -6 \"test2/ANGIO_s904_i00004_real.nii\"\n",
      "Using RWVSlope:RWVIntercept = 5.23419:0\n",
      " Philips Scaling Values RS:RI:SS = 5.23419:0:0.00914187 (see PMC3998685)\n",
      "Convert 1 DICOM as test2/ANGIO_s904_i00005_real (512x512x1x1)\n",
      "Warning: Check that 2D images are not mirrored.\n",
      "compress: \"/usr/bin/pigz\" -n -f -6 \"test2/ANGIO_s904_i00005_real.nii\"\n",
      "Using RWVSlope:RWVIntercept = 5.23419:0\n",
      " Philips Scaling Values RS:RI:SS = 5.23419:0:0.00914187 (see PMC3998685)\n",
      "Convert 1 DICOM as test2/ANGIO_s904_i00006_real (512x512x1x1)\n",
      "Warning: Check that 2D images are not mirrored.\n",
      "compress: \"/usr/bin/pigz\" -n -f -6 \"test2/ANGIO_s904_i00006_real.nii\"\n",
      "Using RWVSlope:RWVIntercept = 5.23419:0\n",
      " Philips Scaling Values RS:RI:SS = 5.23419:0:0.00914187 (see PMC3998685)\n",
      "Convert 1 DICOM as test2/ANGIO_s904_i00007_real (512x512x1x1)\n",
      "Warning: Check that 2D images are not mirrored.\n",
      "compress: \"/usr/bin/pigz\" -n -f -6 \"test2/ANGIO_s904_i00007_real.nii\"\n",
      "Using RWVSlope:RWVIntercept = 5.23419:0\n",
      " Philips Scaling Values RS:RI:SS = 5.23419:0:0.00914187 (see PMC3998685)\n",
      "Convert 1 DICOM as test2/ANGIO_s904_i00008_real (512x512x1x1)\n",
      "Warning: Check that 2D images are not mirrored.\n",
      "compress: \"/usr/bin/pigz\" -n -f -6 \"test2/ANGIO_s904_i00008_real.nii\"\n",
      "Using RWVSlope:RWVIntercept = 5.23419:0\n",
      " Philips Scaling Values RS:RI:SS = 5.23419:0:0.00914187 (see PMC3998685)\n",
      "Convert 1 DICOM as test2/ANGIO_s904_i00009_real (512x512x1x1)\n",
      "Warning: Check that 2D images are not mirrored.\n",
      "compress: \"/usr/bin/pigz\" -n -f -6 \"test2/ANGIO_s904_i00009_real.nii\"\n",
      "Done!\u001b[0m                                                                       \u001b[32m\n"
     ]
    },
    {
     "data": {
      "text/plain": [
       "0"
      ]
     },
     "execution_count": 58,
     "metadata": {},
     "output_type": "execute_result"
    }
   ],
   "source": [
    "method_dcm2niix(src, dst)"
   ]
  },
  {
   "cell_type": "code",
   "execution_count": 59,
   "id": "d6219190",
   "metadata": {
    "ExecuteTime": {
     "end_time": "2021-11-03T23:41:27.389327Z",
     "start_time": "2021-11-03T23:41:27.241714Z"
    },
    "scrolled": true
   },
   "outputs": [
    {
     "name": "stdout",
     "output_type": "stream",
     "text": [
      "ANGIO_s903_i00001_real.json         Sag_3D_FLAIR_s1201.json\r\n",
      "\u001b[0m\u001b[01;31mANGIO_s903_i00001_real.nii.gz\u001b[0m       \u001b[01;31mSag_3D_FLAIR_s1201.nii.gz\u001b[0m\r\n",
      "ANGIO_s903_i00002_real.json         \u001b[01;31mSag_3D_FLAIR_s601_Crop_1.nii.gz\u001b[0m\r\n",
      "\u001b[01;31mANGIO_s903_i00002_real.nii.gz\u001b[0m       Sag_3D_FLAIR_s601.json\r\n",
      "ANGIO_s903_i00003_real.json         \u001b[01;31mSag_3D_FLAIR_s601.nii.gz\u001b[0m\r\n",
      "\u001b[01;31mANGIO_s903_i00003_real.nii.gz\u001b[0m       \u001b[01;31mSag_3D_T1_s1101_Crop_1.nii.gz\u001b[0m\r\n",
      "ANGIO_s903_i00004_real.json         Sag_3D_T1_s1101.json\r\n",
      "\u001b[01;31mANGIO_s903_i00004_real.nii.gz\u001b[0m       \u001b[01;31mSag_3D_T1_s1101.nii.gz\u001b[0m\r\n",
      "ANGIO_s903_i00005_real.json         Survey_s101_i00001.json\r\n",
      "\u001b[01;31mANGIO_s903_i00005_real.nii.gz\u001b[0m       \u001b[01;31mSurvey_s101_i00001.nii.gz\u001b[0m\r\n",
      "ANGIO_s903_i00006_real.json         Survey_s101_i00004.json\r\n",
      "\u001b[01;31mANGIO_s903_i00006_real.nii.gz\u001b[0m       \u001b[01;31mSurvey_s101_i00004.nii.gz\u001b[0m\r\n",
      "ANGIO_s903_i00007_real.json         Survey_s101_i00007.json\r\n",
      "\u001b[01;31mANGIO_s903_i00007_real.nii.gz\u001b[0m       \u001b[01;31mSurvey_s101_i00007.nii.gz\u001b[0m\r\n",
      "ANGIO_s903_i00008_real.json         T1W_3D_TFE_s201.json\r\n",
      "\u001b[01;31mANGIO_s903_i00008_real.nii.gz\u001b[0m       \u001b[01;31mT1W_3D_TFE_s201.nii.gz\u001b[0m\r\n",
      "ANGIO_s903_i00009_real.json         \u001b[01;31mT2_3D_s301_Crop_1.nii.gz\u001b[0m\r\n",
      "\u001b[01;31mANGIO_s903_i00009_real.nii.gz\u001b[0m       \u001b[01;31mT2_3D_s301_Eq_1.nii.gz\u001b[0m\r\n",
      "ANGIO_s903_i00010_real.json         T2_3D_s301.json\r\n",
      "\u001b[01;31mANGIO_s903_i00010_real.nii.gz\u001b[0m       \u001b[01;31mT2_3D_s301.nii.gz\u001b[0m\r\n",
      "ANGIO_s904_i00001_real.json         TRA_s1102_real.json\r\n",
      "\u001b[01;31mANGIO_s904_i00001_real.nii.gz\u001b[0m       \u001b[01;31mTRA_s1102_real.nii.gz\u001b[0m\r\n",
      "ANGIO_s904_i00002_real.json         TRA_s1103_real.json\r\n",
      "\u001b[01;31mANGIO_s904_i00002_real.nii.gz\u001b[0m       \u001b[01;31mTRA_s1103_real.nii.gz\u001b[0m\r\n",
      "ANGIO_s904_i00003_real.json         TRA_s202_real.json\r\n",
      "\u001b[01;31mANGIO_s904_i00003_real.nii.gz\u001b[0m       \u001b[01;31mTRA_s202_real.nii.gz\u001b[0m\r\n",
      "ANGIO_s904_i00004_real.json         TRA_s302_real.json\r\n",
      "\u001b[01;31mANGIO_s904_i00004_real.nii.gz\u001b[0m       \u001b[01;31mTRA_s302_real.nii.gz\u001b[0m\r\n",
      "ANGIO_s904_i00005_real.json         TRA_s303_real.json\r\n",
      "\u001b[01;31mANGIO_s904_i00005_real.nii.gz\u001b[0m       \u001b[01;31mTRA_s303_real.nii.gz\u001b[0m\r\n",
      "ANGIO_s904_i00006_real.json         TRA_s602_real.json\r\n",
      "\u001b[01;31mANGIO_s904_i00006_real.nii.gz\u001b[0m       \u001b[01;31mTRA_s602_real.nii.gz\u001b[0m\r\n",
      "ANGIO_s904_i00007_real.json         TRA_s603_real.json\r\n",
      "\u001b[01;31mANGIO_s904_i00007_real.nii.gz\u001b[0m       \u001b[01;31mTRA_s603_real.nii.gz\u001b[0m\r\n",
      "ANGIO_s904_i00008_real.json         VENO_s1003_i00001_real.json\r\n",
      "\u001b[01;31mANGIO_s904_i00008_real.nii.gz\u001b[0m       \u001b[01;31mVENO_s1003_i00001_real.nii.gz\u001b[0m\r\n",
      "ANGIO_s904_i00009_real.json         VENO_s1003_i00002_real.json\r\n",
      "\u001b[01;31mANGIO_s904_i00009_real.nii.gz\u001b[0m       \u001b[01;31mVENO_s1003_i00002_real.nii.gz\u001b[0m\r\n",
      "ANGIO_s904_i00010_real.json         VENO_s1003_i00003_real.json\r\n",
      "\u001b[01;31mANGIO_s904_i00010_real.nii.gz\u001b[0m       \u001b[01;31mVENO_s1003_i00003_real.nii.gz\u001b[0m\r\n",
      "Ax_DWI_s801.json                    VENO_s1003_i00004_real.json\r\n",
      "\u001b[01;31mAx_DWI_s801.nii.gz\u001b[0m                  \u001b[01;31mVENO_s1003_i00004_real.nii.gz\u001b[0m\r\n",
      "Ax_SWI_phase_s703_real_ph.json      VENO_s1003_i00005_real.json\r\n",
      "\u001b[01;31mAx_SWI_phase_s703_real_ph.nii.gz\u001b[0m    \u001b[01;31mVENO_s1003_i00005_real.nii.gz\u001b[0m\r\n",
      "\u001b[01;31mAx_SWI_s701_Eq_1.nii.gz\u001b[0m             VENO_s1003_i00006_real.json\r\n",
      "Ax_SWI_s701.json                    \u001b[01;31mVENO_s1003_i00006_real.nii.gz\u001b[0m\r\n",
      "\u001b[01;31mAx_SWI_s701.nii.gz\u001b[0m                  VENO_s1003_i00007_real.json\r\n",
      "\u001b[01;31mAx_SWI_s701_ph_Eq_1.nii.gz\u001b[0m          \u001b[01;31mVENO_s1003_i00007_real.nii.gz\u001b[0m\r\n",
      "Ax_SWI_s701_ph.json                 VENO_s1003_i00008_real.json\r\n",
      "\u001b[01;31mAx_SWI_s701_ph.nii.gz\u001b[0m               \u001b[01;31mVENO_s1003_i00008_real.nii.gz\u001b[0m\r\n",
      "Ax_SWI_s702_real.json               VENO_s1003_i00009_real.json\r\n",
      "\u001b[01;31mAx_SWI_s702_real.nii.gz\u001b[0m             \u001b[01;31mVENO_s1003_i00009_real.nii.gz\u001b[0m\r\n",
      "dDWI_s803_real.json                 VENO_s1003_i00010_real.json\r\n",
      "\u001b[01;31mdDWI_s803_real.nii.gz\u001b[0m               \u001b[01;31mVENO_s1003_i00010_real.nii.gz\u001b[0m\r\n",
      "DTI_medium_iso_s401.json            VENO_s1004_i00001_real.json\r\n",
      "\u001b[01;31mDTI_medium_iso_s401.nii.gz\u001b[0m          \u001b[01;31mVENO_s1004_i00001_real.nii.gz\u001b[0m\r\n",
      "DTI_medium_iso_s501.json            VENO_s1004_i00002_real.json\r\n",
      "\u001b[01;31mDTI_medium_iso_s501.nii.gz\u001b[0m          \u001b[01;31mVENO_s1004_i00002_real.nii.gz\u001b[0m\r\n",
      "isoDWI_s802_real.json               VENO_s1004_i00003_real.json\r\n",
      "\u001b[01;31misoDWI_s802_real.nii.gz\u001b[0m             \u001b[01;31mVENO_s1004_i00003_real.nii.gz\u001b[0m\r\n",
      "MIP_-_s3DI_MC_s902_i00001.json      VENO_s1004_i00004_real.json\r\n",
      "\u001b[01;31mMIP_-_s3DI_MC_s902_i00001.nii.gz\u001b[0m    \u001b[01;31mVENO_s1004_i00004_real.nii.gz\u001b[0m\r\n",
      "MIP_-_s3DI_MC_s902_i00002.json      VENO_s1004_i00005_real.json\r\n",
      "\u001b[01;31mMIP_-_s3DI_MC_s902_i00002.nii.gz\u001b[0m    \u001b[01;31mVENO_s1004_i00005_real.nii.gz\u001b[0m\r\n",
      "MIP_-_s3DI_MC_s902_i00003.json      VENO_s1004_i00006_real.json\r\n",
      "\u001b[01;31mMIP_-_s3DI_MC_s902_i00003.nii.gz\u001b[0m    \u001b[01;31mVENO_s1004_i00006_real.nii.gz\u001b[0m\r\n",
      "MIP_-_VENO_TOF_s1002_i00001.json    VENO_s1004_i00007_real.json\r\n",
      "\u001b[01;31mMIP_-_VENO_TOF_s1002_i00001.nii.gz\u001b[0m  \u001b[01;31mVENO_s1004_i00007_real.nii.gz\u001b[0m\r\n",
      "MIP_-_VENO_TOF_s1002_i00002.json    VENO_s1004_i00008_real.json\r\n",
      "\u001b[01;31mMIP_-_VENO_TOF_s1002_i00002.nii.gz\u001b[0m  \u001b[01;31mVENO_s1004_i00008_real.nii.gz\u001b[0m\r\n",
      "MIP_-_VENO_TOF_s1002_i00003.json    VENO_s1004_i00009_real.json\r\n",
      "\u001b[01;31mMIP_-_VENO_TOF_s1002_i00003.nii.gz\u001b[0m  \u001b[01;31mVENO_s1004_i00009_real.nii.gz\u001b[0m\r\n",
      "s2D_PRESS_144_s1301.json            VENO_s1004_i00010_real.json\r\n",
      "\u001b[01;31ms2D_PRESS_144_s1301.nii.gz\u001b[0m          \u001b[01;31mVENO_s1004_i00010_real.nii.gz\u001b[0m\r\n",
      "s3DI_MC_s901.json                   VENO_TOF_s1001.json\r\n",
      "\u001b[01;31ms3DI_MC_s901.nii.gz\u001b[0m                 \u001b[01;31mVENO_TOF_s1001.nii.gz\u001b[0m\r\n",
      "\u001b[01;31mSag_3D_FLAIR_s1201_Crop_1.nii.gz\u001b[0m\r\n"
     ]
    }
   ],
   "source": [
    "!ls {dst}"
   ]
  },
  {
   "cell_type": "code",
   "execution_count": 67,
   "id": "697c19e0",
   "metadata": {
    "ExecuteTime": {
     "end_time": "2021-11-03T23:54:06.162589Z",
     "start_time": "2021-11-03T23:54:05.611912Z"
    }
   },
   "outputs": [
    {
     "name": "stdout",
     "output_type": "stream",
     "text": [
      "\u001b[36m\n",
      "[@ locate] begin:\u001b[0m\n",
      "[INFO] Matched series = dict_keys(['xDTImediumisos501a1005'])\n",
      "[INFO] Copied bvec @ dst/xDTImediumisos501a1005.bval\n",
      "[INFO] Copied bval @ dst/xDTImediumisos501a1005.bvec\n",
      "[INFO] Copied nifti @ dst/xDTImediumisos501a1005.nii.gz\n",
      "[INFO] Copied json @ dst/1_1_DTI_medium_iso_20201228113918_501.json\n",
      "\u001b[32m[@ locate] completed!\n",
      "\u001b[0m\n"
     ]
    }
   ],
   "source": [
    "!dtip locate test -o 'dst'"
   ]
  },
  {
   "cell_type": "code",
   "execution_count": 44,
   "id": "7140f371",
   "metadata": {
    "ExecuteTime": {
     "end_time": "2021-11-03T23:27:40.584944Z",
     "start_time": "2021-11-03T23:27:40.579281Z"
    }
   },
   "outputs": [],
   "source": [
    "output_path = Path(dst)"
   ]
  },
  {
   "cell_type": "code",
   "execution_count": 50,
   "id": "db43db9f",
   "metadata": {
    "ExecuteTime": {
     "end_time": "2021-11-03T23:38:52.528814Z",
     "start_time": "2021-11-03T23:38:52.510748Z"
    }
   },
   "outputs": [
    {
     "data": {
      "text/plain": [
       "[PosixPath('test/1_1_DTI_medium_iso_20201228113918_501.json')]"
      ]
     },
     "execution_count": 50,
     "metadata": {},
     "output_type": "execute_result"
    }
   ],
   "source": [
    "selected_json = [\n",
    "    p for p in output_path.glob('*') \n",
    "    if (('DTI_medium_iso' in p.stem) and (p.suffix == '.json'))\n",
    "]\n",
    "selected_json = [p for p in selected_json if p.stem.split('_')[-1] == series]\n",
    "selected_json"
   ]
  },
  {
   "cell_type": "code",
   "execution_count": 51,
   "id": "a4720ef0",
   "metadata": {
    "ExecuteTime": {
     "end_time": "2021-11-03T23:39:16.460260Z",
     "start_time": "2021-11-03T23:39:16.452523Z"
    }
   },
   "outputs": [
    {
     "data": {
      "text/plain": [
       "[PosixPath('test/1_1_DTI_medium_iso_20201228113918_501.json'),\n",
       " PosixPath('test/1_1_DTI_medium_iso_20201228113918_401.json')]"
      ]
     },
     "execution_count": 51,
     "metadata": {},
     "output_type": "execute_result"
    }
   ],
   "source": [
    "selected_json = [\n",
    "    p for p in output_path.glob('*') \n",
    "    if (('DTI_medium_iso' in p.stem) and (p.suffix == '.json'))\n",
    "]\n",
    "selected_json"
   ]
  },
  {
   "cell_type": "code",
   "execution_count": 68,
   "id": "90f23e31",
   "metadata": {
    "ExecuteTime": {
     "end_time": "2021-11-04T00:00:13.067269Z",
     "start_time": "2021-11-04T00:00:13.063752Z"
    }
   },
   "outputs": [],
   "source": [
    "import json"
   ]
  },
  {
   "cell_type": "code",
   "execution_count": 70,
   "id": "8a142bfa",
   "metadata": {
    "ExecuteTime": {
     "end_time": "2021-11-04T00:13:43.676092Z",
     "start_time": "2021-11-04T00:13:43.670452Z"
    }
   },
   "outputs": [],
   "source": [
    "json_filepath = '/media/virk/MyEHDD/ITS/2_interm/1_1/1_1_DTI_medium_iso_20201228113918_501.json'\n",
    "with open(json_filepath) as jfile:\n",
    "    info = json.load(jfile)"
   ]
  },
  {
   "cell_type": "code",
   "execution_count": 72,
   "id": "275e2f06",
   "metadata": {
    "ExecuteTime": {
     "end_time": "2021-11-04T00:13:54.972556Z",
     "start_time": "2021-11-04T00:13:54.963351Z"
    }
   },
   "outputs": [
    {
     "data": {
      "text/plain": [
       "0.08538"
      ]
     },
     "execution_count": 72,
     "metadata": {},
     "output_type": "execute_result"
    }
   ],
   "source": [
    "info['EchoTime']"
   ]
  },
  {
   "cell_type": "code",
   "execution_count": 106,
   "id": "3f0faaa7",
   "metadata": {
    "ExecuteTime": {
     "end_time": "2021-11-04T08:56:28.358466Z",
     "start_time": "2021-11-04T08:56:28.353632Z"
    }
   },
   "outputs": [],
   "source": [
    "from fsl.wrappers import eddy as fsleddy"
   ]
  },
  {
   "cell_type": "code",
   "execution_count": 90,
   "id": "142ee81c",
   "metadata": {
    "ExecuteTime": {
     "end_time": "2021-11-04T06:58:53.685617Z",
     "start_time": "2021-11-04T06:58:53.675709Z"
    }
   },
   "outputs": [],
   "source": [
    "_b0shape = nib.load(path).shape\n",
    "# If there are two b0 images i.e. shape=X,Y,Z,2 then perform TOPUP.\n",
    "if (len(_b0shape) == 4) and (_b0shape.shape[3] == 2):\n",
    "    topup(path, datain=acqp, out=outpath, verbose=True)"
   ]
  },
  {
   "cell_type": "code",
   "execution_count": 92,
   "id": "245892fa",
   "metadata": {
    "ExecuteTime": {
     "end_time": "2021-11-04T07:06:05.048376Z",
     "start_time": "2021-11-04T07:05:41.071680Z"
    },
    "scrolled": true
   },
   "outputs": [
    {
     "name": "stdout",
     "output_type": "stream",
     "text": [
      "SSD = -nan\tn = 566720\tReg = -nan\tCost = -nan\n",
      "SSD = -nan\tn = 566720\tReg = -nan\tCost = -nan\n",
      "SSD = -nan\tn = 566720\tReg = -nan\tCost = -nan\n",
      "SSD = -nan\tn = 566720\tReg = -nan\tCost = -nan\n",
      "SSD = -nan\tn = 566720\tReg = -nan\tCost = -nan\n",
      "SSD = -nan\tn = 566720\tReg = -nan\tCost = -nan\n",
      "SSD = -nan\tn = 566720\tReg = -nan\tCost = -nan\n",
      "SSD = -nan\tn = 566720\tReg = -nan\tCost = -nan\n",
      "SSD = -nan\tn = 566720\tReg = -nan\tCost = -nan\n",
      "SSD = -nan\tn = 566720\tReg = -nan\tCost = -nan\n",
      "SSD = -nan\tn = 566720\tReg = -nan\tCost = -nan\n",
      "SSD = -nan\tn = 566720\tReg = -nan\tCost = -nan\n",
      "SSD = -nan\tn = 566720\tReg = -nan\tCost = -nan\n",
      "SSD = -nan\tn = 566720\tReg = -nan\tCost = -nan\n",
      "SSD = -nan\tn = 566720\tReg = -nan\tCost = -nan\n",
      "SSD = -nan\tn = 566720\tReg = -nan\tCost = -nan\n",
      "SSD = -nan\tn = 566720\tReg = -nan\tCost = -nan\n",
      "SSD = -nan\tn = 566720\tReg = -nan\tCost = -nan\n",
      "SSD = -nan\tn = 566720\tReg = -nan\tCost = -nan\n",
      "SSD = -nan\tn = 566720\tReg = -nan\tCost = -nan\n",
      "SSD = -nan\tn = 566720\tReg = -nan\tCost = -nan\n",
      "SSD = -nan\tn = 566720\tReg = -nan\tCost = -nan\n",
      "SSD = -nan\tn = 566720\tReg = -nan\tCost = -nan\n"
     ]
    },
    {
     "data": {
      "text/plain": [
       "{}"
      ]
     },
     "execution_count": 92,
     "metadata": {},
     "output_type": "execute_result"
    }
   ],
   "source": [
    "path = '/media/virk/MyEHDD/ITS/2_interm/1_1/b0.nii.gz'\n",
    "acqp = '/home/virk/devs/WorkProjects/DTIP/acqparams.txt'\n",
    "outpath = './topup_b0'\n",
    "foutpath, ioutpath = f'{outpath}_fout', f'{outpath}_iout'\n",
    "topup(path, datain=acqp, out=outpath, fout=foutpath, iout=ioutpath, verbose=True)"
   ]
  },
  {
   "cell_type": "code",
   "execution_count": 93,
   "id": "4f75df7d",
   "metadata": {
    "ExecuteTime": {
     "end_time": "2021-11-04T07:06:18.261194Z",
     "start_time": "2021-11-04T07:06:18.132976Z"
    }
   },
   "outputs": [
    {
     "name": "stdout",
     "output_type": "stream",
     "text": [
      "\u001b[0m\u001b[01;31mtopup_b0_fieldcoef.nii.gz\u001b[0m  \u001b[01;31mtopup_b0_iout.nii.gz\u001b[0m  Untitled.ipynb\r\n",
      "\u001b[01;31mtopup_b0_fout.nii.gz\u001b[0m       topup_b0_movpar.txt\r\n"
     ]
    }
   ],
   "source": [
    "!ls"
   ]
  },
  {
   "cell_type": "code",
   "execution_count": 95,
   "id": "98c0d2d6",
   "metadata": {
    "ExecuteTime": {
     "end_time": "2021-11-04T08:52:09.214889Z",
     "start_time": "2021-11-04T08:52:09.208775Z"
    }
   },
   "outputs": [],
   "source": [
    "from fsl.wrappers.fslmaths import fslmaths"
   ]
  },
  {
   "cell_type": "code",
   "execution_count": 109,
   "id": "1a3acf38",
   "metadata": {
    "ExecuteTime": {
     "end_time": "2021-11-04T08:56:58.988094Z",
     "start_time": "2021-11-04T08:56:58.681413Z"
    }
   },
   "outputs": [
    {
     "data": {
      "text/plain": [
       "{}"
      ]
     },
     "execution_count": 109,
     "metadata": {},
     "output_type": "execute_result"
    }
   ],
   "source": [
    "fslmaths(path).Tmean().run('tmean.nii.gz')"
   ]
  },
  {
   "cell_type": "code",
   "execution_count": 99,
   "id": "8b63942f",
   "metadata": {
    "ExecuteTime": {
     "end_time": "2021-11-04T08:54:04.967380Z",
     "start_time": "2021-11-04T08:54:04.815381Z"
    }
   },
   "outputs": [
    {
     "name": "stdout",
     "output_type": "stream",
     "text": [
      "\u001b[0m\u001b[01;31mtmean.nii.gz\u001b[0m               \u001b[01;31mtopup_b0_fout.nii.gz\u001b[0m  topup_b0_movpar.txt\r\n",
      "\u001b[01;31mtopup_b0_fieldcoef.nii.gz\u001b[0m  \u001b[01;31mtopup_b0_iout.nii.gz\u001b[0m  Untitled.ipynb\r\n"
     ]
    }
   ],
   "source": [
    "!ls"
   ]
  },
  {
   "cell_type": "code",
   "execution_count": 111,
   "id": "53ebf3d2",
   "metadata": {
    "ExecuteTime": {
     "end_time": "2021-11-04T09:07:14.151961Z",
     "start_time": "2021-11-04T09:07:14.149277Z"
    }
   },
   "outputs": [],
   "source": [
    "from fsl.wrappers.bet import bet"
   ]
  },
  {
   "cell_type": "code",
   "execution_count": 114,
   "id": "55a32fed",
   "metadata": {
    "ExecuteTime": {
     "end_time": "2021-11-04T09:09:03.342007Z",
     "start_time": "2021-11-04T09:09:01.279123Z"
    }
   },
   "outputs": [
    {
     "data": {
      "text/plain": [
       "{}"
      ]
     },
     "execution_count": 114,
     "metadata": {},
     "output_type": "execute_result"
    }
   ],
   "source": [
    "bet(path, 'b0_mask', mask=True, robust=True, fracintensity=0.5)"
   ]
  },
  {
   "cell_type": "code",
   "execution_count": 4,
   "id": "733f17c5",
   "metadata": {
    "ExecuteTime": {
     "end_time": "2021-11-04T11:20:42.832203Z",
     "start_time": "2021-11-04T11:20:42.825085Z"
    }
   },
   "outputs": [],
   "source": [
    "import os"
   ]
  },
  {
   "cell_type": "code",
   "execution_count": 5,
   "id": "cd62685a",
   "metadata": {
    "ExecuteTime": {
     "end_time": "2021-11-04T11:20:42.970424Z",
     "start_time": "2021-11-04T11:20:42.965983Z"
    }
   },
   "outputs": [],
   "source": [
    "os.chdir('')"
   ]
  },
  {
   "cell_type": "code",
   "execution_count": 118,
   "id": "8a37dd69",
   "metadata": {
    "ExecuteTime": {
     "end_time": "2021-11-04T10:58:57.092324Z",
     "start_time": "2021-11-04T10:58:54.573907Z"
    }
   },
   "outputs": [
    {
     "name": "stdout",
     "output_type": "stream",
     "text": [
      "Reading images\n",
      "Performing volume-to-volume registration\n",
      "Running Register\n",
      "Loading prediction maker\n",
      "Evaluating prediction maker model\n",
      "Estimated hyperparameters: 2.969517 \n",
      "0.627728 \n",
      "2.622210 \n",
      "\n",
      "^C\n"
     ]
    }
   ],
   "source": [
    "!eddy --imain=xDTImediumisos501a1005.nii.gz --mask=b0_avg_mask.nii.gz --index=index.txt --acqp=acqparams.txt --bvecs=xDTImediumisos501a1005.bvec --bvals=xDTImediumisos501a1005.bval --out=edddddy -v"
   ]
  },
  {
   "cell_type": "code",
   "execution_count": 122,
   "id": "c71b1189",
   "metadata": {
    "ExecuteTime": {
     "end_time": "2021-11-04T11:02:22.893915Z",
     "start_time": "2021-11-04T11:02:22.890201Z"
    }
   },
   "outputs": [],
   "source": [
    "fsleddy.wutils?"
   ]
  },
  {
   "cell_type": "code",
   "execution_count": 1,
   "id": "980a6c81",
   "metadata": {
    "ExecuteTime": {
     "end_time": "2021-11-04T11:22:14.163863Z",
     "start_time": "2021-11-04T11:22:13.908490Z"
    }
   },
   "outputs": [],
   "source": [
    "from dtip.process import run_eddy\n",
    "from pathlib import Path"
   ]
  },
  {
   "cell_type": "code",
   "execution_count": 2,
   "id": "c9a92860",
   "metadata": {
    "ExecuteTime": {
     "end_time": "2021-11-04T11:22:17.421271Z",
     "start_time": "2021-11-04T11:22:14.165329Z"
    }
   },
   "outputs": [
    {
     "name": "stdout",
     "output_type": "stream",
     "text": [
      "Running eddy... [=     ]\u001b[0mReading images\n",
      "Running eddy... [ =    ]\u001b[0mPerforming volume-to-volume registration\n",
      "Running Register\n",
      "Running eddy... [ =    ]\u001b[0m\u001b[33m\u001b[33m\u001b[33m\u001b[33m\u001b[33m\u001b[33m\u001b[33m\u001b[33m\u001b[33m\u001b[33m\u001b[33m\u001b[33m\u001b[33m\u001b[33m\u001b[33m\u001b[33m\u001b[33m\u001b[33m\u001b[33mLoading prediction maker\n",
      "Evaluating prediction maker model\n",
      "Estimated hyperparameters: 3.046828 \n",
      "0.644390 \n",
      "2.637526 \n",
      "\n",
      "Eddy corrected saved @ `/media/virk/MyEHDD/ITS/2_interm/1_1/edddddy`\u001b[0m        \u001b[32m\n"
     ]
    },
    {
     "ename": "KeyboardInterrupt",
     "evalue": "",
     "output_type": "error",
     "traceback": [
      "\u001b[0;31m---------------------------------------------------------------------------\u001b[0m",
      "\u001b[0;31mKeyboardInterrupt\u001b[0m                         Traceback (most recent call last)",
      "\u001b[0;32m/tmp/ipykernel_1773328/333074435.py\u001b[0m in \u001b[0;36m<module>\u001b[0;34m\u001b[0m\n\u001b[0;32m----> 1\u001b[0;31m run_eddy(\n\u001b[0m\u001b[1;32m      2\u001b[0m     \u001b[0minput_path\u001b[0m\u001b[0;34m=\u001b[0m\u001b[0mPath\u001b[0m\u001b[0;34m(\u001b[0m\u001b[0;34m'/media/virk/MyEHDD/ITS/2_interm/1_1/xDTImediumisos501a1005.nii.gz'\u001b[0m\u001b[0;34m)\u001b[0m\u001b[0;34m,\u001b[0m\u001b[0;34m\u001b[0m\u001b[0;34m\u001b[0m\u001b[0m\n\u001b[1;32m      3\u001b[0m     \u001b[0mbrain_mask_path\u001b[0m\u001b[0;34m=\u001b[0m\u001b[0mPath\u001b[0m\u001b[0;34m(\u001b[0m\u001b[0;34m'/media/virk/MyEHDD/ITS/2_interm/1_1/b0_avg_mask.nii.gz'\u001b[0m\u001b[0;34m)\u001b[0m\u001b[0;34m,\u001b[0m\u001b[0;34m\u001b[0m\u001b[0;34m\u001b[0m\u001b[0m\n\u001b[1;32m      4\u001b[0m     \u001b[0mindex_path\u001b[0m\u001b[0;34m=\u001b[0m\u001b[0mPath\u001b[0m\u001b[0;34m(\u001b[0m\u001b[0;34m'/media/virk/MyEHDD/ITS/2_interm/1_1/index.txt'\u001b[0m\u001b[0;34m)\u001b[0m\u001b[0;34m,\u001b[0m\u001b[0;34m\u001b[0m\u001b[0;34m\u001b[0m\u001b[0m\n\u001b[1;32m      5\u001b[0m     \u001b[0macqp_path\u001b[0m\u001b[0;34m=\u001b[0m\u001b[0mPath\u001b[0m\u001b[0;34m(\u001b[0m\u001b[0;34m'/media/virk/MyEHDD/ITS/2_interm/1_1/acqparams.txt'\u001b[0m\u001b[0;34m)\u001b[0m\u001b[0;34m,\u001b[0m\u001b[0;34m\u001b[0m\u001b[0;34m\u001b[0m\u001b[0m\n",
      "\u001b[0;32m~/devs/WorkProjects/DTIP/dtip/process.py\u001b[0m in \u001b[0;36mrun_eddy\u001b[0;34m(input_path, brain_mask_path, index_path, acqp_path, bvecs_path, bvals_path, topup_path, output_path, json_path, flm, fwhm, shelled)\u001b[0m\n\u001b[1;32m    142\u001b[0m             \u001b[0mcommand\u001b[0m\u001b[0;34m.\u001b[0m\u001b[0mappend\u001b[0m\u001b[0;34m(\u001b[0m\u001b[0;34m\"--data_is_shelled\"\u001b[0m\u001b[0;34m)\u001b[0m\u001b[0;34m\u001b[0m\u001b[0;34m\u001b[0m\u001b[0m\n\u001b[1;32m    143\u001b[0m         \u001b[0mcommand\u001b[0m\u001b[0;34m.\u001b[0m\u001b[0mappend\u001b[0m\u001b[0;34m(\u001b[0m\u001b[0;34m'-v'\u001b[0m\u001b[0;34m)\u001b[0m\u001b[0;34m\u001b[0m\u001b[0;34m\u001b[0m\u001b[0m\n\u001b[0;32m--> 144\u001b[0;31m         \u001b[0msubprocess\u001b[0m\u001b[0;34m.\u001b[0m\u001b[0mrun\u001b[0m\u001b[0;34m(\u001b[0m\u001b[0mcommand\u001b[0m\u001b[0;34m)\u001b[0m\u001b[0;34m\u001b[0m\u001b[0;34m\u001b[0m\u001b[0m\n\u001b[0m\u001b[1;32m    145\u001b[0m     \u001b[0;32mreturn\u001b[0m \u001b[0;36m0\u001b[0m\u001b[0;34m\u001b[0m\u001b[0;34m\u001b[0m\u001b[0m\n\u001b[1;32m    146\u001b[0m \u001b[0;34m\u001b[0m\u001b[0m\n",
      "\u001b[0;32m/usr/lib/python3.8/subprocess.py\u001b[0m in \u001b[0;36mrun\u001b[0;34m(input, capture_output, timeout, check, *popenargs, **kwargs)\u001b[0m\n\u001b[1;32m    493\u001b[0m     \u001b[0;32mwith\u001b[0m \u001b[0mPopen\u001b[0m\u001b[0;34m(\u001b[0m\u001b[0;34m*\u001b[0m\u001b[0mpopenargs\u001b[0m\u001b[0;34m,\u001b[0m \u001b[0;34m**\u001b[0m\u001b[0mkwargs\u001b[0m\u001b[0;34m)\u001b[0m \u001b[0;32mas\u001b[0m \u001b[0mprocess\u001b[0m\u001b[0;34m:\u001b[0m\u001b[0;34m\u001b[0m\u001b[0;34m\u001b[0m\u001b[0m\n\u001b[1;32m    494\u001b[0m         \u001b[0;32mtry\u001b[0m\u001b[0;34m:\u001b[0m\u001b[0;34m\u001b[0m\u001b[0;34m\u001b[0m\u001b[0m\n\u001b[0;32m--> 495\u001b[0;31m             \u001b[0mstdout\u001b[0m\u001b[0;34m,\u001b[0m \u001b[0mstderr\u001b[0m \u001b[0;34m=\u001b[0m \u001b[0mprocess\u001b[0m\u001b[0;34m.\u001b[0m\u001b[0mcommunicate\u001b[0m\u001b[0;34m(\u001b[0m\u001b[0minput\u001b[0m\u001b[0;34m,\u001b[0m \u001b[0mtimeout\u001b[0m\u001b[0;34m=\u001b[0m\u001b[0mtimeout\u001b[0m\u001b[0;34m)\u001b[0m\u001b[0;34m\u001b[0m\u001b[0;34m\u001b[0m\u001b[0m\n\u001b[0m\u001b[1;32m    496\u001b[0m         \u001b[0;32mexcept\u001b[0m \u001b[0mTimeoutExpired\u001b[0m \u001b[0;32mas\u001b[0m \u001b[0mexc\u001b[0m\u001b[0;34m:\u001b[0m\u001b[0;34m\u001b[0m\u001b[0;34m\u001b[0m\u001b[0m\n\u001b[1;32m    497\u001b[0m             \u001b[0mprocess\u001b[0m\u001b[0;34m.\u001b[0m\u001b[0mkill\u001b[0m\u001b[0;34m(\u001b[0m\u001b[0;34m)\u001b[0m\u001b[0;34m\u001b[0m\u001b[0;34m\u001b[0m\u001b[0m\n",
      "\u001b[0;32m/usr/lib/python3.8/subprocess.py\u001b[0m in \u001b[0;36mcommunicate\u001b[0;34m(self, input, timeout)\u001b[0m\n\u001b[1;32m   1018\u001b[0m                 \u001b[0mstderr\u001b[0m \u001b[0;34m=\u001b[0m \u001b[0mself\u001b[0m\u001b[0;34m.\u001b[0m\u001b[0mstderr\u001b[0m\u001b[0;34m.\u001b[0m\u001b[0mread\u001b[0m\u001b[0;34m(\u001b[0m\u001b[0;34m)\u001b[0m\u001b[0;34m\u001b[0m\u001b[0;34m\u001b[0m\u001b[0m\n\u001b[1;32m   1019\u001b[0m                 \u001b[0mself\u001b[0m\u001b[0;34m.\u001b[0m\u001b[0mstderr\u001b[0m\u001b[0;34m.\u001b[0m\u001b[0mclose\u001b[0m\u001b[0;34m(\u001b[0m\u001b[0;34m)\u001b[0m\u001b[0;34m\u001b[0m\u001b[0;34m\u001b[0m\u001b[0m\n\u001b[0;32m-> 1020\u001b[0;31m             \u001b[0mself\u001b[0m\u001b[0;34m.\u001b[0m\u001b[0mwait\u001b[0m\u001b[0;34m(\u001b[0m\u001b[0;34m)\u001b[0m\u001b[0;34m\u001b[0m\u001b[0;34m\u001b[0m\u001b[0m\n\u001b[0m\u001b[1;32m   1021\u001b[0m         \u001b[0;32melse\u001b[0m\u001b[0;34m:\u001b[0m\u001b[0;34m\u001b[0m\u001b[0;34m\u001b[0m\u001b[0m\n\u001b[1;32m   1022\u001b[0m             \u001b[0;32mif\u001b[0m \u001b[0mtimeout\u001b[0m \u001b[0;32mis\u001b[0m \u001b[0;32mnot\u001b[0m \u001b[0;32mNone\u001b[0m\u001b[0;34m:\u001b[0m\u001b[0;34m\u001b[0m\u001b[0;34m\u001b[0m\u001b[0m\n",
      "\u001b[0;32m/usr/lib/python3.8/subprocess.py\u001b[0m in \u001b[0;36mwait\u001b[0;34m(self, timeout)\u001b[0m\n\u001b[1;32m   1081\u001b[0m             \u001b[0mendtime\u001b[0m \u001b[0;34m=\u001b[0m \u001b[0m_time\u001b[0m\u001b[0;34m(\u001b[0m\u001b[0;34m)\u001b[0m \u001b[0;34m+\u001b[0m \u001b[0mtimeout\u001b[0m\u001b[0;34m\u001b[0m\u001b[0;34m\u001b[0m\u001b[0m\n\u001b[1;32m   1082\u001b[0m         \u001b[0;32mtry\u001b[0m\u001b[0;34m:\u001b[0m\u001b[0;34m\u001b[0m\u001b[0;34m\u001b[0m\u001b[0m\n\u001b[0;32m-> 1083\u001b[0;31m             \u001b[0;32mreturn\u001b[0m \u001b[0mself\u001b[0m\u001b[0;34m.\u001b[0m\u001b[0m_wait\u001b[0m\u001b[0;34m(\u001b[0m\u001b[0mtimeout\u001b[0m\u001b[0;34m=\u001b[0m\u001b[0mtimeout\u001b[0m\u001b[0;34m)\u001b[0m\u001b[0;34m\u001b[0m\u001b[0;34m\u001b[0m\u001b[0m\n\u001b[0m\u001b[1;32m   1084\u001b[0m         \u001b[0;32mexcept\u001b[0m \u001b[0mKeyboardInterrupt\u001b[0m\u001b[0;34m:\u001b[0m\u001b[0;34m\u001b[0m\u001b[0;34m\u001b[0m\u001b[0m\n\u001b[1;32m   1085\u001b[0m             \u001b[0;31m# https://bugs.python.org/issue25942\u001b[0m\u001b[0;34m\u001b[0m\u001b[0;34m\u001b[0m\u001b[0;34m\u001b[0m\u001b[0m\n",
      "\u001b[0;32m/usr/lib/python3.8/subprocess.py\u001b[0m in \u001b[0;36m_wait\u001b[0;34m(self, timeout)\u001b[0m\n\u001b[1;32m   1804\u001b[0m                         \u001b[0;32mif\u001b[0m \u001b[0mself\u001b[0m\u001b[0;34m.\u001b[0m\u001b[0mreturncode\u001b[0m \u001b[0;32mis\u001b[0m \u001b[0;32mnot\u001b[0m \u001b[0;32mNone\u001b[0m\u001b[0;34m:\u001b[0m\u001b[0;34m\u001b[0m\u001b[0;34m\u001b[0m\u001b[0m\n\u001b[1;32m   1805\u001b[0m                             \u001b[0;32mbreak\u001b[0m  \u001b[0;31m# Another thread waited.\u001b[0m\u001b[0;34m\u001b[0m\u001b[0;34m\u001b[0m\u001b[0m\n\u001b[0;32m-> 1806\u001b[0;31m                         \u001b[0;34m(\u001b[0m\u001b[0mpid\u001b[0m\u001b[0;34m,\u001b[0m \u001b[0msts\u001b[0m\u001b[0;34m)\u001b[0m \u001b[0;34m=\u001b[0m \u001b[0mself\u001b[0m\u001b[0;34m.\u001b[0m\u001b[0m_try_wait\u001b[0m\u001b[0;34m(\u001b[0m\u001b[0;36m0\u001b[0m\u001b[0;34m)\u001b[0m\u001b[0;34m\u001b[0m\u001b[0;34m\u001b[0m\u001b[0m\n\u001b[0m\u001b[1;32m   1807\u001b[0m                         \u001b[0;31m# Check the pid and loop as waitpid has been known to\u001b[0m\u001b[0;34m\u001b[0m\u001b[0;34m\u001b[0m\u001b[0;34m\u001b[0m\u001b[0m\n\u001b[1;32m   1808\u001b[0m                         \u001b[0;31m# return 0 even without WNOHANG in odd situations.\u001b[0m\u001b[0;34m\u001b[0m\u001b[0;34m\u001b[0m\u001b[0;34m\u001b[0m\u001b[0m\n",
      "\u001b[0;32m/usr/lib/python3.8/subprocess.py\u001b[0m in \u001b[0;36m_try_wait\u001b[0;34m(self, wait_flags)\u001b[0m\n\u001b[1;32m   1762\u001b[0m             \u001b[0;34m\"\"\"All callers to this function MUST hold self._waitpid_lock.\"\"\"\u001b[0m\u001b[0;34m\u001b[0m\u001b[0;34m\u001b[0m\u001b[0m\n\u001b[1;32m   1763\u001b[0m             \u001b[0;32mtry\u001b[0m\u001b[0;34m:\u001b[0m\u001b[0;34m\u001b[0m\u001b[0;34m\u001b[0m\u001b[0m\n\u001b[0;32m-> 1764\u001b[0;31m                 \u001b[0;34m(\u001b[0m\u001b[0mpid\u001b[0m\u001b[0;34m,\u001b[0m \u001b[0msts\u001b[0m\u001b[0;34m)\u001b[0m \u001b[0;34m=\u001b[0m \u001b[0mos\u001b[0m\u001b[0;34m.\u001b[0m\u001b[0mwaitpid\u001b[0m\u001b[0;34m(\u001b[0m\u001b[0mself\u001b[0m\u001b[0;34m.\u001b[0m\u001b[0mpid\u001b[0m\u001b[0;34m,\u001b[0m \u001b[0mwait_flags\u001b[0m\u001b[0;34m)\u001b[0m\u001b[0;34m\u001b[0m\u001b[0;34m\u001b[0m\u001b[0m\n\u001b[0m\u001b[1;32m   1765\u001b[0m             \u001b[0;32mexcept\u001b[0m \u001b[0mChildProcessError\u001b[0m\u001b[0;34m:\u001b[0m\u001b[0;34m\u001b[0m\u001b[0;34m\u001b[0m\u001b[0m\n\u001b[1;32m   1766\u001b[0m                 \u001b[0;31m# This happens if SIGCLD is set to be ignored or waiting\u001b[0m\u001b[0;34m\u001b[0m\u001b[0;34m\u001b[0m\u001b[0;34m\u001b[0m\u001b[0m\n",
      "\u001b[0;31mKeyboardInterrupt\u001b[0m: "
     ]
    }
   ],
   "source": [
    "run_eddy(\n",
    "    input_path=Path('/media/virk/MyEHDD/ITS/2_interm/1_1/xDTImediumisos501a1005.nii.gz'),\n",
    "    brain_mask_path=Path('/media/virk/MyEHDD/ITS/2_interm/1_1/b0_avg_mask.nii.gz'),\n",
    "    index_path=Path('/media/virk/MyEHDD/ITS/2_interm/1_1/index.txt'), \n",
    "    acqp_path=Path('/media/virk/MyEHDD/ITS/2_interm/1_1/acqparams.txt'), \n",
    "    bvecs_path=Path('/media/virk/MyEHDD/ITS/2_interm/1_1/xDTImediumisos501a1005.bvec'), \n",
    "    bvals_path=Path('/media/virk/MyEHDD/ITS/2_interm/1_1/xDTImediumisos501a1005.bval'), \n",
    "    output_path=Path('/media/virk/MyEHDD/ITS/2_interm/1_1/edddddy'),\n",
    ")"
   ]
  },
  {
   "cell_type": "code",
   "execution_count": null,
   "id": "c4238e39",
   "metadata": {},
   "outputs": [],
   "source": [
    "\n",
    "\n",
    "\n",
    "\n",
    "\n",
    "\n"
   ]
  }
 ],
 "metadata": {
  "kernelspec": {
   "display_name": "Python (venv)",
   "language": "python",
   "name": "venv"
  },
  "language_info": {
   "codemirror_mode": {
    "name": "ipython",
    "version": 3
   },
   "file_extension": ".py",
   "mimetype": "text/x-python",
   "name": "python",
   "nbconvert_exporter": "python",
   "pygments_lexer": "ipython3",
   "version": "3.8.10"
  },
  "latex_envs": {
   "LaTeX_envs_menu_present": true,
   "autoclose": false,
   "autocomplete": true,
   "bibliofile": "biblio.bib",
   "cite_by": "apalike",
   "current_citInitial": 1,
   "eqLabelWithNumbers": true,
   "eqNumInitial": 1,
   "hotkeys": {
    "equation": "Ctrl-E",
    "itemize": "Ctrl-I"
   },
   "labels_anchors": false,
   "latex_user_defs": false,
   "report_style_numbering": false,
   "user_envs_cfg": false
  }
 },
 "nbformat": 4,
 "nbformat_minor": 5
}
