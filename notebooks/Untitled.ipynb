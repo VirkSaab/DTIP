{
 "cells": [
  {
   "cell_type": "code",
   "execution_count": 1,
   "id": "2a27b20c",
   "metadata": {
    "ExecuteTime": {
     "end_time": "2021-11-03T11:49:15.017006Z",
     "start_time": "2021-11-03T11:49:14.893019Z"
    }
   },
   "outputs": [
    {
     "name": "stdout",
     "output_type": "stream",
     "text": [
      "/home/virk/devs/WorkProjects/DTIP/venv/bin/pip\r\n"
     ]
    }
   ],
   "source": [
    "!which pip"
   ]
  },
  {
   "cell_type": "code",
   "execution_count": 2,
   "id": "2579603c",
   "metadata": {
    "ExecuteTime": {
     "end_time": "2021-11-03T11:49:15.283216Z",
     "start_time": "2021-11-03T11:49:15.020917Z"
    }
   },
   "outputs": [
    {
     "data": {
      "text/plain": [
       "True"
      ]
     },
     "execution_count": 2,
     "metadata": {},
     "output_type": "execute_result"
    }
   ],
   "source": [
    "from fsl.data import dicom\n",
    "\n",
    "from dtip.utils import load_config, ROOT_DIR\n",
    "\n",
    "\n",
    "# Returns True if dcm2niix is present, and recent enough, False otherwise.\n",
    "dicom.enabled()"
   ]
  },
  {
   "cell_type": "code",
   "execution_count": 3,
   "id": "4b25bb7d",
   "metadata": {
    "ExecuteTime": {
     "end_time": "2021-11-03T11:49:15.300729Z",
     "start_time": "2021-11-03T11:49:15.286261Z"
    }
   },
   "outputs": [],
   "source": [
    "CNF = load_config(ROOT_DIR/'config/default.yaml')"
   ]
  },
  {
   "cell_type": "code",
   "execution_count": 4,
   "id": "d745808f",
   "metadata": {
    "ExecuteTime": {
     "end_time": "2021-11-03T11:49:20.227470Z",
     "start_time": "2021-11-03T11:49:15.302204Z"
    }
   },
   "outputs": [],
   "source": [
    "dicom_series_list = dicom.scanDir(\"/media/virk/MyEHDD/PGI_ITS_RAW/test/1_1\")"
   ]
  },
  {
   "cell_type": "code",
   "execution_count": 6,
   "id": "4e517d97",
   "metadata": {
    "ExecuteTime": {
     "end_time": "2021-11-03T11:49:20.242746Z",
     "start_time": "2021-11-03T11:49:20.232692Z"
    },
    "scrolled": false
   },
   "outputs": [],
   "source": [
    "dti_dicom_series_info = [\n",
    "    series\n",
    "    for series in dicom_series_list\n",
    "    if series['ProtocolName'] == 'DTI_medium_iso'\n",
    "]"
   ]
  },
  {
   "cell_type": "code",
   "execution_count": 37,
   "id": "f29123f4",
   "metadata": {
    "ExecuteTime": {
     "end_time": "2021-11-03T12:27:03.073833Z",
     "start_time": "2021-11-03T12:27:03.067981Z"
    }
   },
   "outputs": [
    {
     "data": {
      "text/plain": [
       "[{'Modality': 'MR',\n",
       "  'MagneticFieldStrength': 3,\n",
       "  'ImagingFrequency': 127.766,\n",
       "  'Manufacturer': 'Philips',\n",
       "  'ManufacturersModelName': 'Ingenia',\n",
       "  'InstitutionName': 'PGIMER',\n",
       "  'InstitutionalDepartmentName': 'RADIOLOGY',\n",
       "  'InstitutionAddress': 'CHANDIGARH',\n",
       "  'DeviceSerialNumber': '71280',\n",
       "  'StationName': 'PHILIPS-9N3AF7M',\n",
       "  'SeriesInstanceUID': '1.3.46.670589.11.71280.5.0.7616.2020122811514211895',\n",
       "  'StudyInstanceUID': '1.3.46.670589.11.71280.5.0.14660.2020122811391852086',\n",
       "  'StudyID': '633161358',\n",
       "  'PatientName': 'MAINA_10MTH_F',\n",
       "  'PatientID': 'P-1813_20_202003395952',\n",
       "  'PatientBirthDate': '2020-01-01',\n",
       "  'PatientSex': 'F',\n",
       "  'PatientWeight': 10,\n",
       "  'BodyPartExamined': 'BRAIN',\n",
       "  'PatientPosition': 'HFS',\n",
       "  'ProcedureStepDescription': 'BRAIN',\n",
       "  'SoftwareVersions': '5.6.1_5.6.1.1',\n",
       "  'MRAcquisitionType': '2D',\n",
       "  'SeriesDescription': 'DTI_medium_iso',\n",
       "  'ProtocolName': 'DTI_medium_iso',\n",
       "  'ScanningSequence': 'SE',\n",
       "  'SequenceVariant': 'SK',\n",
       "  'ScanOptions': 'FS',\n",
       "  'ImageType': ['ORIGINAL', 'PRIMARY', 'M', 'SE', 'M', 'SE'],\n",
       "  'SeriesNumber': 401,\n",
       "  'AcquisitionTime': '11:51:59.360000',\n",
       "  'AcquisitionDateTime': '2020-12-28T11:51:59.360000',\n",
       "  'AcquisitionNumber': 4,\n",
       "  'PhilipsRWVSlope': 1.35897,\n",
       "  'PhilipsRWVIntercept': 0,\n",
       "  'PhilipsRescaleSlope': 1.35897,\n",
       "  'PhilipsRescaleIntercept': 0,\n",
       "  'PhilipsScaleSlope': 0.037115,\n",
       "  'UsePhilipsFloatNotDisplayScaling': 1,\n",
       "  'SliceThickness': 2.5,\n",
       "  'SpacingBetweenSlices': 2.5,\n",
       "  'SAR': 1.11155,\n",
       "  'EchoTime': 0.08538,\n",
       "  'RepetitionTime': 2.80368,\n",
       "  'FlipAngle': 90,\n",
       "  'CoilString': 'MULTI_COIL',\n",
       "  'PartialFourier': 0.661972,\n",
       "  'PercentPhaseFOV': 100,\n",
       "  'EchoTrainLength': 47,\n",
       "  'PhaseEncodingSteps': 71,\n",
       "  'AcquisitionMatrixPE': 71,\n",
       "  'ReconMatrixPE': 112,\n",
       "  'PixelBandwidth': 2132,\n",
       "  'PhaseEncodingAxis': 'j',\n",
       "  'ImageOrientationPatientDICOM': [0.999869,\n",
       "   -0.00206645,\n",
       "   0.0160497,\n",
       "   0.000900296,\n",
       "   0.99738,\n",
       "   0.0723289],\n",
       "  'InPlanePhaseEncodingDirectionDICOM': 'COL',\n",
       "  'ConversionSoftware': 'dcm2niix',\n",
       "  'ConversionSoftwareVersion': 'v1.0.20181125  (JP2:OpenJPEG) GCC9.3.0',\n",
       "  'DicomDir': '/media/virk/MyEHDD/PGI_ITS_RAW/test/1_1'},\n",
       " {'Modality': 'MR',\n",
       "  'MagneticFieldStrength': 3,\n",
       "  'ImagingFrequency': 127.766,\n",
       "  'Manufacturer': 'Philips',\n",
       "  'ManufacturersModelName': 'Ingenia',\n",
       "  'InstitutionName': 'PGIMER',\n",
       "  'InstitutionalDepartmentName': 'RADIOLOGY',\n",
       "  'InstitutionAddress': 'CHANDIGARH',\n",
       "  'DeviceSerialNumber': '71280',\n",
       "  'StationName': 'PHILIPS-9N3AF7M',\n",
       "  'SeriesInstanceUID': '1.3.46.670589.11.71280.5.0.7616.2020122812041467382',\n",
       "  'StudyInstanceUID': '1.3.46.670589.11.71280.5.0.14660.2020122811391852086',\n",
       "  'StudyID': '633161358',\n",
       "  'PatientName': 'MAINA_10MTH_F',\n",
       "  'PatientID': 'P-1813_20_202003395952',\n",
       "  'PatientBirthDate': '2020-01-01',\n",
       "  'PatientSex': 'F',\n",
       "  'PatientWeight': 10,\n",
       "  'BodyPartExamined': 'BRAIN',\n",
       "  'PatientPosition': 'HFS',\n",
       "  'ProcedureStepDescription': 'BRAIN',\n",
       "  'SoftwareVersions': '5.6.1_5.6.1.1',\n",
       "  'MRAcquisitionType': '2D',\n",
       "  'SeriesDescription': 'DTI_medium_iso',\n",
       "  'ProtocolName': 'DTI_medium_iso',\n",
       "  'ScanningSequence': 'SE',\n",
       "  'SequenceVariant': 'SK',\n",
       "  'ScanOptions': 'FS',\n",
       "  'ImageType': ['ORIGINAL', 'PRIMARY', 'M', 'SE', 'M', 'SE'],\n",
       "  'SeriesNumber': 501,\n",
       "  'AcquisitionTime': '12:04:18.860000',\n",
       "  'AcquisitionDateTime': '2020-12-28T12:04:18.860000',\n",
       "  'AcquisitionNumber': 5,\n",
       "  'PhilipsRWVSlope': 1.34286,\n",
       "  'PhilipsRWVIntercept': 0,\n",
       "  'PhilipsRescaleSlope': 1.34286,\n",
       "  'PhilipsRescaleIntercept': 0,\n",
       "  'PhilipsScaleSlope': 0.0327802,\n",
       "  'UsePhilipsFloatNotDisplayScaling': 1,\n",
       "  'SliceThickness': 2.5,\n",
       "  'SpacingBetweenSlices': 2.5,\n",
       "  'SAR': 1.11155,\n",
       "  'EchoTime': 0.08538,\n",
       "  'RepetitionTime': 2.80368,\n",
       "  'FlipAngle': 90,\n",
       "  'CoilString': 'MULTI_COIL',\n",
       "  'PartialFourier': 0.661972,\n",
       "  'PercentPhaseFOV': 100,\n",
       "  'EchoTrainLength': 47,\n",
       "  'PhaseEncodingSteps': 71,\n",
       "  'AcquisitionMatrixPE': 71,\n",
       "  'ReconMatrixPE': 112,\n",
       "  'PixelBandwidth': 2132,\n",
       "  'PhaseEncodingAxis': 'j',\n",
       "  'ImageOrientationPatientDICOM': [0.999869,\n",
       "   -0.00206645,\n",
       "   0.0160497,\n",
       "   0.000900296,\n",
       "   0.99738,\n",
       "   0.0723289],\n",
       "  'InPlanePhaseEncodingDirectionDICOM': 'COL',\n",
       "  'ConversionSoftware': 'dcm2niix',\n",
       "  'ConversionSoftwareVersion': 'v1.0.20181125  (JP2:OpenJPEG) GCC9.3.0',\n",
       "  'DicomDir': '/media/virk/MyEHDD/PGI_ITS_RAW/test/1_1'}]"
      ]
     },
     "execution_count": 37,
     "metadata": {},
     "output_type": "execute_result"
    }
   ],
   "source": [
    "dti_dicom_series_info"
   ]
  },
  {
   "cell_type": "code",
   "execution_count": 7,
   "id": "7f2437fe",
   "metadata": {
    "ExecuteTime": {
     "end_time": "2021-11-03T11:49:30.641945Z",
     "start_time": "2021-11-03T11:49:20.243914Z"
    },
    "scrolled": false
   },
   "outputs": [],
   "source": [
    "dti_dicom_series = [\n",
    "    dicom.loadSeries(series_dict)\n",
    "    for series_dict in dti_dicom_series_info\n",
    "]"
   ]
  },
  {
   "cell_type": "code",
   "execution_count": 23,
   "id": "1764736d",
   "metadata": {
    "ExecuteTime": {
     "end_time": "2021-11-03T12:04:26.102307Z",
     "start_time": "2021-11-03T12:04:26.096803Z"
    }
   },
   "outputs": [],
   "source": [
    "img = dti_dicom_series[0][0]"
   ]
  },
  {
   "cell_type": "code",
   "execution_count": 29,
   "id": "d935cc9c",
   "metadata": {
    "ExecuteTime": {
     "end_time": "2021-11-03T12:05:33.159970Z",
     "start_time": "2021-11-03T12:05:33.155899Z"
    }
   },
   "outputs": [],
   "source": [
    "img.loadData()"
   ]
  },
  {
   "cell_type": "code",
   "execution_count": 30,
   "id": "153c3ae4",
   "metadata": {
    "ExecuteTime": {
     "end_time": "2021-11-03T12:05:37.883722Z",
     "start_time": "2021-11-03T12:05:37.878616Z"
    }
   },
   "outputs": [
    {
     "data": {
      "text/plain": [
       "DicomImage(DTI_medium_iso, None)"
      ]
     },
     "execution_count": 30,
     "metadata": {},
     "output_type": "execute_result"
    }
   ],
   "source": [
    "img."
   ]
  },
  {
   "cell_type": "code",
   "execution_count": 31,
   "id": "c6028da9",
   "metadata": {
    "ExecuteTime": {
     "end_time": "2021-11-03T12:09:06.126064Z",
     "start_time": "2021-11-03T12:09:05.105929Z"
    }
   },
   "outputs": [],
   "source": [
    "from fsl.wrappers import gps, LOAD\n",
    "bvecs = gps(LOAD, 128, optws=True)['out']"
   ]
  },
  {
   "cell_type": "code",
   "execution_count": null,
   "id": "61bb5ddb",
   "metadata": {
    "ExecuteTime": {
     "end_time": "2021-11-03T12:16:46.451001Z",
     "start_time": "2021-11-03T12:16:46.422568Z"
    }
   },
   "outputs": [],
   "source": []
  },
  {
   "cell_type": "code",
   "execution_count": 39,
   "id": "e3a8bc1f",
   "metadata": {
    "ExecuteTime": {
     "end_time": "2021-11-03T13:15:26.475838Z",
     "start_time": "2021-11-03T13:15:26.470479Z"
    }
   },
   "outputs": [],
   "source": [
    "from pathlib import Path"
   ]
  },
  {
   "cell_type": "code",
   "execution_count": 43,
   "id": "7868d1c1",
   "metadata": {
    "ExecuteTime": {
     "end_time": "2021-11-03T13:15:56.316208Z",
     "start_time": "2021-11-03T13:15:56.311362Z"
    }
   },
   "outputs": [
    {
     "data": {
      "text/plain": [
       "[PosixPath('.ipynb_checkpoints'),\n",
       " PosixPath('.gitkeep'),\n",
       " PosixPath('Untitled.ipynb')]"
      ]
     },
     "execution_count": 43,
     "metadata": {},
     "output_type": "execute_result"
    }
   ],
   "source": [
    "list(Path(\".\").glob('*'))"
   ]
  },
  {
   "cell_type": "code",
   "execution_count": null,
   "id": "88ece124",
   "metadata": {},
   "outputs": [],
   "source": []
  }
 ],
 "metadata": {
  "kernelspec": {
   "display_name": "Python (venv)",
   "language": "python",
   "name": "venv"
  },
  "language_info": {
   "codemirror_mode": {
    "name": "ipython",
    "version": 3
   },
   "file_extension": ".py",
   "mimetype": "text/x-python",
   "name": "python",
   "nbconvert_exporter": "python",
   "pygments_lexer": "ipython3",
   "version": "3.8.10"
  },
  "latex_envs": {
   "LaTeX_envs_menu_present": true,
   "autoclose": false,
   "autocomplete": true,
   "bibliofile": "biblio.bib",
   "cite_by": "apalike",
   "current_citInitial": 1,
   "eqLabelWithNumbers": true,
   "eqNumInitial": 1,
   "hotkeys": {
    "equation": "Ctrl-E",
    "itemize": "Ctrl-I"
   },
   "labels_anchors": false,
   "latex_user_defs": false,
   "report_style_numbering": false,
   "user_envs_cfg": false
  }
 },
 "nbformat": 4,
 "nbformat_minor": 5
}
